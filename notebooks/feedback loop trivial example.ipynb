{
 "cells": [
  {
   "cell_type": "code",
   "execution_count": null,
   "metadata": {},
   "outputs": [],
   "source": []
  },
  {
   "cell_type": "code",
   "execution_count": 1,
   "metadata": {},
   "outputs": [
    {
     "data": {
      "text/html": [
       "<style>.container { width:100% !important; }</style>"
      ],
      "text/plain": [
       "<IPython.core.display.HTML object>"
      ]
     },
     "metadata": {},
     "output_type": "display_data"
    }
   ],
   "source": [
    "import feedWebGL2.feedback as fd\n",
    "import numpy as np\n",
    "fd.widen_notebook()\n",
    "np.set_printoptions(precision=4)"
   ]
  },
  {
   "cell_type": "code",
   "execution_count": 2,
   "metadata": {},
   "outputs": [
    {
     "data": {
      "text/plain": [
       "array([0. , 0.1, 0.2, 0.3, 0.4, 0.5, 0.6, 0.7, 0.8, 0.9])"
      ]
     },
     "execution_count": 2,
     "metadata": {},
     "output_type": "execute_result"
    }
   ],
   "source": [
    "n = 10\n",
    "initial_array = np.arange(n) * 0.1\n",
    "initial_array"
   ]
  },
  {
   "cell_type": "code",
   "execution_count": 3,
   "metadata": {},
   "outputs": [
    {
     "data": {
      "application/vnd.jupyter.widget-view+json": {
       "model_id": "75bb81bc5d5447d7916285dba7e02ad4",
       "version_major": 2,
       "version_minor": 0
      },
      "text/plain": [
       "VBox(children=(FeedbackProgram(status='deferring flush until render'), Text(value='deferring flush until rende…"
      ]
     },
     "metadata": {},
     "output_type": "display_data"
    }
   ],
   "source": [
    "shader_GLSL_code = \"\"\"#version 300 es\n",
    "\n",
    "        // reverse the input array (in tex1) and add 1.0\n",
    "\n",
    "        // per vertex input (not used, but at least one is required?)\n",
    "        in float dummy_input;\n",
    "\n",
    "        // the sampler -- only the red component contains the float data\n",
    "        uniform sampler2D tex1;\n",
    "\n",
    "        out float reversed_value;  // feedback output\n",
    "\n",
    "        void main() {\n",
    "            // foil the optimizer -- use the dummy input so it isn't removed (that might cause errors downstream on Firefox)\n",
    "            gl_Position = vec4(dummy_input,dummy_input,dummy_input,dummy_input);\n",
    "            // get the sampler size\n",
    "            ivec2 tsize = textureSize(tex1, 0);\n",
    "            int reversed_index = tsize[0] - gl_VertexID - 1;\n",
    "            ivec2 reversed_position = ivec2(reversed_index, 0);\n",
    "            // get the indexed color\n",
    "            vec4 redcolor = texelFetch(tex1, reversed_position, 0);\n",
    "            reversed_value = redcolor.r + 1.0;\n",
    "        }\n",
    "\"\"\"\n",
    "\n",
    "feedback_program = fd.FeedbackProgram(\n",
    "    program = fd.Program(\n",
    "        vertex_shader = shader_GLSL_code,\n",
    "        feedbacks = fd.Feedbacks(\n",
    "            reversed_value = fd.Feedback(num_components=1),\n",
    "        ),\n",
    "    ),\n",
    "    runner = fd.Runner(\n",
    "        vertices_per_instance = n,\n",
    "        inputs = fd.Inputs(\n",
    "            dummy_input = fd.Input(\n",
    "                num_components = 1,\n",
    "                from_buffer = fd.BufferLocation(\n",
    "                    name = \"output_buffer\",\n",
    "                ),\n",
    "            ),\n",
    "        ),\n",
    "        samplers = fd.Samplers(\n",
    "            tex1 = fd.Sampler(\n",
    "                dim= \"2D\",\n",
    "                from_texture= \"texture1\",\n",
    "            ),\n",
    "        ),\n",
    "    ),\n",
    "    context = fd.Context(\n",
    "        buffers = fd.Buffers(\n",
    "            output_buffer = fd.Buffer(\n",
    "                array = list(initial_array)\n",
    "            ),\n",
    "        ),\n",
    "        textures= fd.Textures(\n",
    "            texture1= fd.Texture(\n",
    "                #type= \"FLOAT\",\n",
    "                #format= \"RED\",  # put the matrix entry in the red component\n",
    "                #internal_format= \"R32F\",\n",
    "                height= 1,\n",
    "                width=  n,\n",
    "                array= list(initial_array),\n",
    "            ),\n",
    "        ),\n",
    "    ),\n",
    ")\n",
    "\n",
    "# display the widget and debugging information\n",
    "feedback_program.debugging_display()"
   ]
  },
  {
   "cell_type": "code",
   "execution_count": 4,
   "metadata": {},
   "outputs": [],
   "source": [
    "#feedback_program.run()\n",
    "\n",
    "feedback_program.js_init(\"\"\"\n",
    "\n",
    "    element.feedback_loop = function () {\n",
    "        // The main feedback loop operation is written in Javascript to reduce communications overhead.\n",
    "        element.run_feedback_program();\n",
    "        // afterward the run link the feedback output on the GPU to the input texture\n",
    "        var runner = element.feedback_runner;\n",
    "        var context = element.feedback_context;\n",
    "        var texture = context.textures.texture1;\n",
    "        runner.copy_feedback_to_buffer(\"reversed_value\", \"output_buffer\");\n",
    "        var from_buffer = context.buffers.output_buffer;\n",
    "        texture.reload_from_buffer(from_buffer)\n",
    "    };\n",
    "\"\"\")"
   ]
  },
  {
   "cell_type": "code",
   "execution_count": 5,
   "metadata": {},
   "outputs": [
    {
     "data": {
      "text/plain": [
       "array([0. , 0.1, 0.2, 0.3, 0.4, 0.5, 0.6, 0.7, 0.8, 0.9])"
      ]
     },
     "execution_count": 5,
     "metadata": {},
     "output_type": "execute_result"
    }
   ],
   "source": [
    "feedback_program.element.feedback_loop()\n",
    "initial_array"
   ]
  },
  {
   "cell_type": "code",
   "execution_count": 7,
   "metadata": {},
   "outputs": [
    {
     "data": {
      "text/plain": [
       "[[1.899999976158142],\n",
       " [1.7999999523162842],\n",
       " [1.7000000476837158],\n",
       " [1.600000023841858],\n",
       " [1.5],\n",
       " [1.399999976158142],\n",
       " [1.2999999523162842],\n",
       " [1.2000000476837158],\n",
       " [1.100000023841858],\n",
       " [1]]"
      ]
     },
     "execution_count": 7,
     "metadata": {},
     "output_type": "execute_result"
    }
   ],
   "source": [
    "r = feedback_program.get_feedback(\"reversed_value\")\n",
    "r"
   ]
  },
  {
   "cell_type": "code",
   "execution_count": 8,
   "metadata": {},
   "outputs": [
    {
     "data": {
      "text/plain": [
       "True"
      ]
     },
     "execution_count": 8,
     "metadata": {},
     "output_type": "execute_result"
    }
   ],
   "source": [
    "np.allclose(np.array(list(reversed(r))).ravel() - 1.0, initial_array)"
   ]
  },
  {
   "cell_type": "code",
   "execution_count": 9,
   "metadata": {},
   "outputs": [
    {
     "data": {
      "text/plain": [
       "[[2],\n",
       " [2.0999999046325684],\n",
       " [2.200000047683716],\n",
       " [2.299999952316284],\n",
       " [2.4000000953674316],\n",
       " [2.5],\n",
       " [2.5999999046325684],\n",
       " [2.700000047683716],\n",
       " [2.799999952316284],\n",
       " [2.9000000953674316]]"
      ]
     },
     "execution_count": 9,
     "metadata": {},
     "output_type": "execute_result"
    }
   ],
   "source": [
    "feedback_program.element.feedback_loop()\n",
    "feedback_program.get_feedback(\"reversed_value\")"
   ]
  },
  {
   "cell_type": "code",
   "execution_count": null,
   "metadata": {},
   "outputs": [],
   "source": []
  }
 ],
 "metadata": {
  "kernelspec": {
   "display_name": "Python 3",
   "language": "python",
   "name": "python3"
  },
  "language_info": {
   "codemirror_mode": {
    "name": "ipython",
    "version": 3
   },
   "file_extension": ".py",
   "mimetype": "text/x-python",
   "name": "python",
   "nbconvert_exporter": "python",
   "pygments_lexer": "ipython3",
   "version": "3.6.8"
  }
 },
 "nbformat": 4,
 "nbformat_minor": 4
}
