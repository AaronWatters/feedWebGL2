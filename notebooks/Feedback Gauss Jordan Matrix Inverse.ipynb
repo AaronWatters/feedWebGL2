{
 "cells": [
  {
   "cell_type": "markdown",
   "metadata": {},
   "source": [
    "# Shader code\n",
    "\n",
    "```c++\n",
    "#version 300 es\n",
    "\n",
    "// Swap pivoted entry parallel operation.\n",
    "\n",
    "// per vertex input (not used, but at least one is required?)\n",
    "in float row_input, col_input;\n",
    "\n",
    "// The Gauss-Jordan expanded matrix in column major order.\n",
    "uniform sampler2D expanded_matrix;\n",
    "\n",
    "uniform int pivot_column;\n",
    "\n",
    "uniform int swap_row;\n",
    "\n",
    "uniform float epsilon;\n",
    "\n",
    "out float pivot_value;  // feedback output\n",
    "\n",
    "// retrieve row/col value from matrix in column major\n",
    "float get_item(in int rownum, in int colnum) {\n",
    "    // data is in R component only.\n",
    "    return texelFetch(expanded_matrix, ivec2(rownum, colnum), 0).r;\n",
    "}\n",
    "\n",
    "void main() {\n",
    "    // foil the optimizer -- use the dummy input so it isn't removed (that might cause errors downstream on Firefox)\n",
    "    gl_Position = vec4(row_input, col_input, row_input, col_input);\n",
    "    // Column major indexing\n",
    "    int irow = gl_VertexID;\n",
    "    int icol = gl_InstanceID;\n",
    "    float pivot_entry = get_item(swap_row, pivot_column);\n",
    "    pivot_value = 0.0;\n",
    "    if (abs(pivot_entry) > epsilon) {\n",
    "        // pivot entry is not too small.\n",
    "        if (icol == pivot_column) {\n",
    "            if (irow == pivot_column) {\n",
    "                pivot_value = 1.0;  // pivot location\n",
    "            }  \n",
    "            // otherwise, pivot column, not at pivot location: 0.0\n",
    "        } else {\n",
    "            // not pivot column\n",
    "            if (irow == pivot_column) {\n",
    "                // pivot row, not pivot column\n",
    "                float old_value = get_item(swap_row, icol);\n",
    "                pivot_value = old_value / pivot_entry;\n",
    "            } else {\n",
    "                // not pivot row or pivot column\n",
    "                // row swap logic\n",
    "                if (irow == swap_row) {\n",
    "                    irow = pivot_column;\n",
    "                }\n",
    "                float old_value = get_item(irow, icol);\n",
    "                float pivot_column_value = get_item(swap_row, icol);\n",
    "                float factor = pivot_column_value / pivot_entry;\n",
    "                float pivot_row_value = get_item(irow, pivot_column);\n",
    "                pivot_value = old_value - (factor * pivot_row_value);\n",
    "            }\n",
    "        }\n",
    "    } else {\n",
    "        // if pivot entry is too small, no change.\n",
    "        pivot_value = get_item(irow, icol);\n",
    "    }\n",
    "}\n",
    "```"
   ]
  },
  {
   "cell_type": "code",
   "execution_count": 1,
   "metadata": {},
   "outputs": [
    {
     "data": {
      "text/html": [
       "<style>.container { width:100% !important; }</style>"
      ],
      "text/plain": [
       "<IPython.core.display.HTML object>"
      ]
     },
     "metadata": {},
     "output_type": "display_data"
    },
    {
     "data": {
      "text/plain": [
       "array([1., 1., 3., 2., 5., 7.])"
      ]
     },
     "execution_count": 1,
     "metadata": {},
     "output_type": "execute_result"
    }
   ],
   "source": [
    "import feedWebGL2.feedback as fd\n",
    "import numpy as np\n",
    "fd.widen_notebook()\n",
    "np.set_printoptions(precision=4)\n",
    "\n",
    "# https://stackoverflow.com/questions/20341614/numpy-array-row-major-and-column-major\n",
    "def column_array(L):\n",
    "    return np.array(L, dtype=np.float, order=\"F\")\n",
    "\n",
    "C = column_array([\n",
    "    [1, 3, 5],\n",
    "    [1, 2, 7]\n",
    "])\n",
    "C.ravel(order=\"K\")"
   ]
  },
  {
   "cell_type": "code",
   "execution_count": 2,
   "metadata": {},
   "outputs": [],
   "source": [
    "initial_array = column_array([\n",
    "    [-1, 1, 1],\n",
    "    [ 1, 1,-1],\n",
    "    [-1,-1,-1]\n",
    "])\n",
    "\n",
    "if 1:\n",
    "    size = 100\n",
    "    initial_array = (0.5 - np.random.random(size * size).reshape((size, size))) * size\n",
    "\n",
    "def expanded_matrix(square_matrix):\n",
    "    (n, m) = square_matrix.shape\n",
    "    assert n == m, \"matrix is not square: \" + repr(square_matrix.shape)\n",
    "    result = np.zeros( (n, n+n), dtype=np.float, order=\"F\")\n",
    "    result[:, :n] = square_matrix\n",
    "    result[:, n:] = np.eye(n)\n",
    "    return result\n",
    "\n",
    "sq_expanded = expanded_matrix(initial_array)\n",
    "expanded_list = sq_expanded.ravel(order=\"K\")"
   ]
  },
  {
   "cell_type": "code",
   "execution_count": 3,
   "metadata": {},
   "outputs": [
    {
     "data": {
      "application/vnd.jupyter.widget-view+json": {
       "model_id": "d720aace4af14309b9dae140c8443ebd",
       "version_major": 2,
       "version_minor": 0
      },
      "text/plain": [
       "VBox(children=(FeedbackProgram(status='deferring flush until render'), Text(value='deferring flush until rende…"
      ]
     },
     "metadata": {},
     "output_type": "display_data"
    }
   ],
   "source": [
    "shader_GLSL_code = \"\"\"#version 300 es\n",
    "\n",
    "    // Swap pivoted entry parallel operation.\n",
    "\n",
    "    // per vertex input (not used, but at least one is required?)\n",
    "    in float row_input, col_input;\n",
    "\n",
    "    // The Gauss-Jordan expanded matrix in column major order.\n",
    "    uniform sampler2D expanded_matrix;\n",
    "\n",
    "    uniform int pivot_column;\n",
    "\n",
    "    uniform int swap_row;\n",
    "    \n",
    "    uniform float epsilon;\n",
    "\n",
    "    out float pivot_value;  // feedback output\n",
    "\n",
    "    // retrieve row/col value from matrix in column major\n",
    "    float get_item(in int rownum, in int colnum) {\n",
    "        // data is in R component only.\n",
    "        return texelFetch(expanded_matrix, ivec2(rownum, colnum), 0).r;\n",
    "    }\n",
    "\n",
    "    void main() {\n",
    "        // foil the optimizer -- use the dummy input so it isn't removed (that might cause errors downstream on Firefox)\n",
    "        gl_Position = vec4(row_input, col_input, row_input, col_input);\n",
    "        // Column major indexing\n",
    "        int irow = gl_VertexID;\n",
    "        int icol = gl_InstanceID;\n",
    "        float pivot_entry = get_item(swap_row, pivot_column);\n",
    "        pivot_value = 0.0;\n",
    "        if (abs(pivot_entry) > epsilon) {\n",
    "            // pivot entry is not too small.\n",
    "            if (icol == pivot_column) {\n",
    "                if (irow == pivot_column) {\n",
    "                    pivot_value = 1.0;  // pivot location\n",
    "                }  \n",
    "                // otherwise, pivot column, not at pivot location: 0.0\n",
    "            } else {\n",
    "                // not pivot column\n",
    "                if (irow == pivot_column) {\n",
    "                    // pivot row, not pivot column\n",
    "                    float old_value = get_item(swap_row, icol);\n",
    "                    pivot_value = old_value / pivot_entry;\n",
    "                } else {\n",
    "                    // not pivot row or pivot column\n",
    "                    // row swap logic\n",
    "                    if (irow == swap_row) {\n",
    "                        irow = pivot_column;\n",
    "                    }\n",
    "                    float old_value = get_item(irow, icol);\n",
    "                    float pivot_column_value = get_item(swap_row, icol);\n",
    "                    float factor = pivot_column_value / pivot_entry;\n",
    "                    float pivot_row_value = get_item(irow, pivot_column);\n",
    "                    pivot_value = old_value - (factor * pivot_row_value);\n",
    "                }\n",
    "            }\n",
    "        } else {\n",
    "            // if pivot entry is too small, no change.\n",
    "            pivot_value = get_item(irow, icol);\n",
    "        }\n",
    "    }\n",
    "\"\"\"\n",
    "\n",
    "(n, m) = sq_expanded.shape\n",
    "sq_ravelled = list(sq_expanded.ravel(order=\"K\"))\n",
    "\n",
    "feedback_program = fd.FeedbackProgram(\n",
    "    program = fd.Program(\n",
    "        vertex_shader = shader_GLSL_code,\n",
    "        feedbacks = fd.Feedbacks(\n",
    "            pivot_value = fd.Feedback(num_components=1),\n",
    "        ),\n",
    "    ),\n",
    "    runner = fd.Runner(\n",
    "        vertices_per_instance = n,  # vertices == rows\n",
    "        num_instances = m, # instances == columns\n",
    "        uniforms = fd.Uniforms(\n",
    "            pivot_column = fd.Uniform(default_value=[0], type=\"int\"),\n",
    "            swap_row = fd.Uniform(default_value=[0], type=\"int\"),\n",
    "            epsilon = fd.Uniform(default_value=[1e-15]),\n",
    "        ),\n",
    "        inputs = fd.Inputs(\n",
    "            row_input = fd.Input(\n",
    "                num_components = 1,\n",
    "                from_buffer = fd.BufferLocation(\n",
    "                    name = \"row_buffer\",\n",
    "                ),\n",
    "            ),\n",
    "            col_input = fd.Input(\n",
    "                num_components = 1,\n",
    "                from_buffer = fd.BufferLocation(\n",
    "                    name = \"row_buffer\",\n",
    "                ),\n",
    "            ),\n",
    "        ),\n",
    "        samplers = fd.Samplers(\n",
    "            expanded_matrix = fd.Sampler(\n",
    "                dim= \"2D\",\n",
    "                from_texture= \"matrix_texture\",\n",
    "            ),\n",
    "        ),\n",
    "    ),\n",
    "    context = fd.Context(\n",
    "        buffers = fd.Buffers(\n",
    "            row_buffer = fd.Buffer(\n",
    "                array = list(range(m)),\n",
    "            ),\n",
    "        ),\n",
    "        textures= fd.Textures(\n",
    "            matrix_texture = fd.Texture(\n",
    "                height= m,\n",
    "                width=  n,\n",
    "                array= sq_ravelled,\n",
    "            ),\n",
    "        ),\n",
    "    ),\n",
    ")\n",
    "\n",
    "def get_output():\n",
    "    result = np.zeros(sq_expanded.shape, order=\"F\")\n",
    "    rresult = result.ravel(order=\"K\")\n",
    "    rresult[:] = feedback_program.element.get_output().sync_value()\n",
    "    return result\n",
    "\n",
    "# display the widget and debugging information\n",
    "feedback_program.debugging_display()"
   ]
  },
  {
   "cell_type": "code",
   "execution_count": 4,
   "metadata": {},
   "outputs": [],
   "source": [
    "#feedback_program.run()\n",
    "\n",
    "feedback_program.js_init(\"\"\"\n",
    "\n",
    "    // allocate the output buffer (no initial value)\n",
    "    element.output_buffer = element.feedback_context.buffer(\"output_buffer\", 4);\n",
    "    element.output_buffer.allocate_size( n * m );\n",
    "    \n",
    "    element.get_output_column = function(column_number) {\n",
    "        // get column major column from the output buffer;\n",
    "        var column_offset = n * column_number;\n",
    "        return element.output_buffer.get_slice(column_offset, column_offset + n);\n",
    "    };\n",
    "    \n",
    "    element.get_output = function() {\n",
    "        debugger;\n",
    "        var typed = element.feedback_runner.feedback_array(\"pivot_value\");\n",
    "        return Array.from(typed);\n",
    "    };\n",
    "\n",
    "    element.pivot_and_swap = function (swap_row, pivot_column) {\n",
    "        // The main feedback loop operation is written in Javascript to reduce communications overhead.\n",
    "        element.change_uniform_vector(\"swap_row\", [swap_row]);\n",
    "        element.change_uniform_vector(\"pivot_column\", [pivot_column]);\n",
    "        element.run_feedback_program();\n",
    "        // afterward the run, link the feedback output on the GPU to the input texture\n",
    "        var runner = element.feedback_runner;\n",
    "        var context = element.feedback_context;\n",
    "        var texture = context.textures.matrix_texture;\n",
    "        runner.copy_feedback_to_buffer(\"pivot_value\", \"output_buffer\");\n",
    "        var from_buffer = context.buffers.output_buffer;\n",
    "        texture.reload_from_buffer(from_buffer)\n",
    "    };\n",
    "    \n",
    "    element.reduce_matrix = function(column0) {\n",
    "        debugger;\n",
    "        // perform Gauss-Jordan reduction on loaded matrix.\n",
    "        // column0 is given as an argument because the output buffer not initialized on first iteration.\n",
    "        for (var icol=0; icol<n; icol++) {\n",
    "            var column = column0;\n",
    "            if (icol > 0) {\n",
    "                // get output column from previous iteration\n",
    "                column = element.get_output_column(icol);\n",
    "            }\n",
    "            // determine swap row\n",
    "            var swap_row = icol;\n",
    "            var swap_max = 0.0;\n",
    "            for (var i=icol; i<n; i++) {\n",
    "                var value = Math.abs(column[i]);\n",
    "                if (value > swap_max) {\n",
    "                    swap_row = i;\n",
    "                    swap_max = value;\n",
    "                }\n",
    "            }\n",
    "            element.pivot_and_swap(swap_row, icol);\n",
    "        }\n",
    "    }\n",
    "\"\"\", n=n, m=m)"
   ]
  },
  {
   "cell_type": "code",
   "execution_count": 5,
   "metadata": {},
   "outputs": [
    {
     "data": {
      "text/plain": [
       "['method', <class 'jp_proxy_widget.proxy_widget.CommandMaker'>::140704609221376, 'reduce_matrix', <class 'jp_proxy_widget.proxy_widget.LiteralMaker'>::140704609219304]"
      ]
     },
     "execution_count": 5,
     "metadata": {},
     "output_type": "execute_result"
    }
   ],
   "source": [
    "#feedback_program.element.pivot_and_swap(1,2)\n",
    "column0 = list(initial_array[:, 0])\n",
    "feedback_program.element.reduce_matrix(column0)"
   ]
  },
  {
   "cell_type": "code",
   "execution_count": 6,
   "metadata": {},
   "outputs": [
    {
     "data": {
      "text/plain": [
       "array([[ 1.0000e+00,  0.0000e+00,  0.0000e+00, ...,  1.2179e-03,\n",
       "        -1.0523e-03,  3.3701e-03],\n",
       "       [ 0.0000e+00,  1.0000e+00,  0.0000e+00, ..., -5.5227e-03,\n",
       "         2.6381e-03,  8.0591e-04],\n",
       "       [ 0.0000e+00,  0.0000e+00,  1.0000e+00, ..., -5.0364e-04,\n",
       "        -3.9753e-03,  9.5462e-03],\n",
       "       ...,\n",
       "       [ 0.0000e+00,  0.0000e+00,  0.0000e+00, ...,  6.5514e-04,\n",
       "         4.3052e-03, -1.3893e-02],\n",
       "       [ 0.0000e+00,  0.0000e+00,  0.0000e+00, ..., -2.2182e-03,\n",
       "         6.8243e-03, -4.4455e-03],\n",
       "       [ 0.0000e+00,  0.0000e+00,  0.0000e+00, ...,  3.8172e-03,\n",
       "        -1.7655e-03, -3.9127e-03]])"
      ]
     },
     "execution_count": 6,
     "metadata": {},
     "output_type": "execute_result"
    }
   ],
   "source": [
    "r = get_output()\n",
    "r"
   ]
  },
  {
   "cell_type": "code",
   "execution_count": 7,
   "metadata": {},
   "outputs": [
    {
     "data": {
      "text/plain": [
       "array([[ 9.9998e-01, -6.2006e-08,  1.0776e-05, ...,  6.1112e-06,\n",
       "         8.8182e-06,  2.9089e-05],\n",
       "       [-1.4980e-05,  1.0000e+00,  3.7215e-06, ...,  5.5978e-06,\n",
       "         8.8112e-06, -5.3155e-06],\n",
       "       [ 2.8950e-06, -1.3127e-06,  1.0000e+00, ...,  8.2584e-06,\n",
       "         3.1017e-05,  5.5285e-06],\n",
       "       ...,\n",
       "       [-9.6009e-06,  7.9215e-07,  7.1967e-06, ...,  9.9998e-01,\n",
       "        -2.5902e-05,  2.4434e-05],\n",
       "       [-5.5172e-06, -7.4697e-06,  3.8777e-06, ...,  5.3675e-06,\n",
       "         1.0000e+00, -1.8220e-05],\n",
       "       [ 1.4735e-05,  1.0871e-06, -1.5653e-06, ..., -1.1437e-05,\n",
       "        -2.1879e-05,  9.9999e-01]])"
      ]
     },
     "execution_count": 7,
     "metadata": {},
     "output_type": "execute_result"
    }
   ],
   "source": [
    "inverse = r[:,n:]\n",
    "II = inverse.dot(initial_array)\n",
    "II"
   ]
  },
  {
   "cell_type": "code",
   "execution_count": 8,
   "metadata": {},
   "outputs": [
    {
     "data": {
      "text/plain": [
       "True"
      ]
     },
     "execution_count": 8,
     "metadata": {},
     "output_type": "execute_result"
    }
   ],
   "source": [
    "np.allclose(np.eye(n), II, rtol=1e-03, atol=1e-03)"
   ]
  },
  {
   "cell_type": "code",
   "execution_count": null,
   "metadata": {},
   "outputs": [],
   "source": [
    "np.linalg.det(II)"
   ]
  },
  {
   "cell_type": "code",
   "execution_count": null,
   "metadata": {},
   "outputs": [],
   "source": []
  }
 ],
 "metadata": {
  "kernelspec": {
   "display_name": "Python 3",
   "language": "python",
   "name": "python3"
  },
  "language_info": {
   "codemirror_mode": {
    "name": "ipython",
    "version": 3
   },
   "file_extension": ".py",
   "mimetype": "text/x-python",
   "name": "python",
   "nbconvert_exporter": "python",
   "pygments_lexer": "ipython3",
   "version": "3.6.8"
  }
 },
 "nbformat": 4,
 "nbformat_minor": 4
}
