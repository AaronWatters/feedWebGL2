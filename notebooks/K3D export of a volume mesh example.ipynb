{
 "cells": [
  {
   "cell_type": "markdown",
   "metadata": {},
   "source": [
    "<img src=\"k3d.png\" width=\"800\"/>\n",
    "\n",
    "\n",
    "# How to export a 3d matrix slicing as a K3D mesh\n",
    "\n",
    "<a href=\"https://k3d-jupyter.org/index.html\">K3D-jupyter</a> is richly featured a Jupyter notebook 3D visualization package.\n",
    "\n",
    "The `feedWebGL` package includes logic for exporting a slicing created using the volume widget as a \n",
    "<a href=\"https://k3d-jupyter.org/basic_functionality/Mesh.html\">mesh</a>\n",
    "for use in K3D displayed scenes.\n",
    "\n",
    "First you need a 3d matrix.  Let's read a matrix from a binary format which was derived\n",
    "from MRI imaging:"
   ]
  },
  {
   "cell_type": "code",
   "execution_count": null,
   "metadata": {},
   "outputs": [],
   "source": [
    "try:\n",
    "    import k3d\n",
    "except ImportError:\n",
    "    print (\"K3D is not installed as a dependancy for feedWebGL -- please install it separately if you want to use it.\")\n",
    "    raise"
   ]
  },
  {
   "cell_type": "code",
   "execution_count": null,
   "metadata": {},
   "outputs": [],
   "source": [
    "import numpy as np\n",
    "f = open(\"mri.npy\", \"rb\")\n",
    "Matrix = np.load(f)\n",
    "threshold=33000"
   ]
  },
  {
   "cell_type": "code",
   "execution_count": null,
   "metadata": {},
   "outputs": [],
   "source": [
    "\n",
    "# TESTING ONLY!\n",
    "import numpy as np\n",
    "if 0:\n",
    "    N = 20\n",
    "    threshold = 50\n",
    "    Matrix = np.zeros((N,N,N))\n",
    "    for i in range(N):\n",
    "        for j in range(N):\n",
    "            for k in range(N):\n",
    "                Matrix[i,j,k] = i*i + j*j + k*k\n",
    "Matrix.shape\n"
   ]
  },
  {
   "cell_type": "markdown",
   "metadata": {},
   "source": [
    "Create a volume widget and then load the matrix:"
   ]
  },
  {
   "cell_type": "code",
   "execution_count": null,
   "metadata": {},
   "outputs": [],
   "source": [
    "from feedWebGL2 import volume\n",
    "volume.widen_notebook()\n",
    "\n",
    "W = volume.Volume32()\n",
    "\n",
    "W"
   ]
  },
  {
   "cell_type": "code",
   "execution_count": null,
   "metadata": {},
   "outputs": [],
   "source": [
    "W.sync()\n",
    "# At the moment the array must be loaded using the 'tetrahedra' method for the export to work:\n",
    "W.load_3d_numpy_array(Matrix, threshold=threshold, method=\"tetrahedra\")\n",
    "W.build(width=1600)"
   ]
  },
  {
   "cell_type": "markdown",
   "metadata": {},
   "source": [
    "# Select a slicing and then export to k3d"
   ]
  },
  {
   "cell_type": "code",
   "execution_count": null,
   "metadata": {},
   "outputs": [],
   "source": [
    "# Mesh parameters may be passed to the exporter.\n",
    "mesh = W.to_k3d_mesh(\n",
    "                   color_map = k3d.colormaps.basic_color_maps.Jet,\n",
    "                   color_range = [-1.1,2.01])"
   ]
  },
  {
   "cell_type": "code",
   "execution_count": null,
   "metadata": {
    "scrolled": false
   },
   "outputs": [],
   "source": [
    "plot = k3d.plot()\n",
    "plot += mesh\n",
    "plot.display()"
   ]
  },
  {
   "cell_type": "code",
   "execution_count": null,
   "metadata": {},
   "outputs": [],
   "source": [
    "dir(mesh)"
   ]
  },
  {
   "cell_type": "code",
   "execution_count": null,
   "metadata": {},
   "outputs": [],
   "source": [
    "mesh.vertices.shape"
   ]
  },
  {
   "cell_type": "code",
   "execution_count": null,
   "metadata": {},
   "outputs": [],
   "source": [
    "mesh.vertices[:33]"
   ]
  },
  {
   "cell_type": "code",
   "execution_count": null,
   "metadata": {},
   "outputs": [],
   "source": [
    "len(W._segmented_caller.accumulated_response)"
   ]
  },
  {
   "cell_type": "code",
   "execution_count": null,
   "metadata": {},
   "outputs": [],
   "source": []
  }
 ],
 "metadata": {
  "kernelspec": {
   "display_name": "Python 3",
   "language": "python",
   "name": "python3"
  },
  "language_info": {
   "codemirror_mode": {
    "name": "ipython",
    "version": 3
   },
   "file_extension": ".py",
   "mimetype": "text/x-python",
   "name": "python",
   "nbconvert_exporter": "python",
   "pygments_lexer": "ipython3",
   "version": "3.6.8"
  }
 },
 "nbformat": 4,
 "nbformat_minor": 4
}
