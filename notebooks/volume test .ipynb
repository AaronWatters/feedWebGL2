{
 "cells": [
  {
   "cell_type": "markdown",
   "metadata": {},
   "source": [
    "<img src=\"volume_test.png\" width=\"700\"/>\n",
    "\n",
    "# Volume widget test case\n",
    "\n",
    "This notebook varifies that the volume widget works in the current environment.\n",
    "\n",
    "The volume widget displayes a 3 dimensional volume array of floating point values\n",
    "as a Jupyter widget.  The code below\n",
    "\n",
    "- imports the module functionality\n",
    "\n",
    "- creates a test object\n",
    "\n",
    "- computes the volume data to display.\n",
    "\n",
    "- creates the widget\n",
    "\n",
    "- loads data into the widget.\n",
    "\n",
    "The widget display shows slices through the volume, and two isosurface views of the volume:\n",
    "a \"dot cloud\" and a \"solid surface\".  The isosurface shows where the matrix values crosses\n",
    "a selected value,."
   ]
  },
  {
   "cell_type": "code",
   "execution_count": 1,
   "metadata": {},
   "outputs": [],
   "source": [
    "# import the module}\n",
    "from feedWebGL2 import volume"
   ]
  },
  {
   "cell_type": "code",
   "execution_count": 2,
   "metadata": {},
   "outputs": [
    {
     "data": {
      "text/html": [
       "<style>.container { width:100% !important; }</style>"
      ],
      "text/plain": [
       "<IPython.core.display.HTML object>"
      ]
     },
     "metadata": {},
     "output_type": "display_data"
    }
   ],
   "source": [
    "# instantiate the example\n",
    "E = volume.Example()"
   ]
  },
  {
   "cell_type": "code",
   "execution_count": 3,
   "metadata": {},
   "outputs": [
    {
     "name": "stdout",
     "output_type": "stream",
     "text": [
      "array (115, 114, 113)\n"
     ]
    }
   ],
   "source": [
    "# Compute the test volume array.\n",
    "E.get_array()"
   ]
  },
  {
   "cell_type": "code",
   "execution_count": 4,
   "metadata": {},
   "outputs": [
    {
     "data": {
      "application/vnd.jupyter.widget-view+json": {
       "model_id": "8159560ebaee4a408d1a154ee6bc391a",
       "version_major": 2,
       "version_minor": 0
      },
      "text/plain": [
       "Volume32(status='deferring flush until render')"
      ]
     },
     "metadata": {},
     "output_type": "display_data"
    }
   ],
   "source": [
    "# Prepare the widget (but don't load the data yet)\n",
    "E.widget()"
   ]
  },
  {
   "cell_type": "code",
   "execution_count": 6,
   "metadata": {},
   "outputs": [],
   "source": [
    "# Load the array into the widget and display the result.\n",
    "E.run()"
   ]
  },
  {
   "cell_type": "markdown",
   "metadata": {},
   "source": [
    "Slide the slider to adjust the iso-surface cut off level.\n",
    "\n",
    "Drag over the dot cloud in the middle/bottom to rotate the 3d figures.\n",
    "\n",
    "Drag the black squares to adjust the displayed data slicing.\n",
    "\n",
    "This is the formula used to derive the volume matrix:\n",
    "\n",
    "$\\max(\\min(1, (x y + x z + z y)/(1 + x y z) ), -1)$"
   ]
  },
  {
   "cell_type": "code",
   "execution_count": null,
   "metadata": {},
   "outputs": [],
   "source": []
  }
 ],
 "metadata": {
  "kernelspec": {
   "display_name": "Python 3",
   "language": "python",
   "name": "python3"
  },
  "language_info": {
   "codemirror_mode": {
    "name": "ipython",
    "version": 3
   },
   "file_extension": ".py",
   "mimetype": "text/x-python",
   "name": "python",
   "nbconvert_exporter": "python",
   "pygments_lexer": "ipython3",
   "version": "3.6.8"
  }
 },
 "nbformat": 4,
 "nbformat_minor": 4
}
