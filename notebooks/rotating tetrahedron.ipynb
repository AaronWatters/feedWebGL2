{
 "cells": [
  {
   "cell_type": "markdown",
   "metadata": {},
   "source": [
    "Adapted from https://www.tutorialspoint.com/webgl/webgl_sample_application.htm"
   ]
  },
  {
   "cell_type": "code",
   "execution_count": null,
   "metadata": {},
   "outputs": [],
   "source": [
    "import feedWebGL2.feedback as fd\n",
    "from ipywidgets import interact, interactive, fixed, interact_manual\n",
    "import numpy as np\n",
    "fd.widen_notebook()\n",
    "np.set_printoptions(precision=4)\n",
    "\n",
    "corners = 0.5 * np.array([\n",
    "    [1, 1, 1],\n",
    "    [1, -1, -1],\n",
    "    [-1, -1, 1],\n",
    "    [-1, 1, -1],\n",
    "])\n",
    "colors = corners + 0.5\n",
    "\n",
    "def tetrahedron_triangles(corners):\n",
    "    triangles = np.zeros([4, 3, 3], dtype=np.float)\n",
    "    for i in range(4):\n",
    "        triangles[i, :i] = corners[:i]\n",
    "        triangles[i, i:] = corners[i+1:]\n",
    "    return triangles\n",
    "    \n",
    "triangles = tetrahedron_triangles(corners)\n",
    "tcolors = tetrahedron_triangles(colors)\n",
    "\n",
    "# make faces \"flat colored\"\n",
    "if 0:\n",
    "    for i in range(4):\n",
    "        for j in range(3):\n",
    "            tcolors[i,j] = colors[i]\n",
    "            \n",
    "def matrix1(phi, i=0):\n",
    "    result = np.eye(4)\n",
    "    result[0,0] = np.cos(phi)\n",
    "    result[i,i] = np.cos(phi)\n",
    "    result[0,i] = np.sin(phi)\n",
    "    result[i,0] = -np.sin(phi)\n",
    "    return result\n",
    "\n",
    "\n",
    "def matrix(phi=0.0, theta=0.0, xt=0, yt=0, zt=0):\n",
    "    M1 = matrix1(phi, 1)\n",
    "    #print(M1)\n",
    "    M2 = matrix1(theta, 2)\n",
    "    #print(M2)\n",
    "    M12 = M1.dot(M2)\n",
    "    Mt = np.eye(4)\n",
    "    Mt[3,0] = xt\n",
    "    Mt[3,1] = yt\n",
    "    Mt[3,2] = zt\n",
    "    return M12.dot(Mt)\n",
    "\n",
    "M = matrix(1.0, 2.0, 0.1, -0.1, 0.2)\n",
    "M"
   ]
  },
  {
   "cell_type": "code",
   "execution_count": null,
   "metadata": {},
   "outputs": [],
   "source": [
    "vertices = triangles.ravel()\n",
    "\n",
    "def rotate(phi=-0.5, theta=0.0, xt=0.0, yt=0.0, zt=0.0):\n",
    "    M = matrix(phi * np.pi, theta * np.pi, xt, yt, zt)\n",
    "    assert np.abs(np.linalg.det(M) - 1.0) < 0.0001\n",
    "    feedback_program.change_uniform_vector(\"rotation_matrix\", M.ravel())\n",
    "    feedback_program.run()\n",
    "    return M\n",
    "\n",
    "vertex_shader = \"\"\"#version 300 es\n",
    "    uniform mat4 rotation_matrix;\n",
    "    in vec3 coordinates;\n",
    "    in vec3 vcolor;\n",
    "    out vec3 output_vertex;\n",
    "    out vec3 coord_color;\n",
    "\n",
    "    void main() {\n",
    "        coord_color = vcolor;\n",
    "        gl_Position = vec4(coordinates, 1.0);\n",
    "        gl_Position = rotation_matrix * gl_Position;\n",
    "        gl_Position[3] = 1.0;\n",
    "        output_vertex = gl_Position.xyz;\n",
    "    }\n",
    "\"\"\"\n",
    "\n",
    "fragment_shader = \"\"\"#version 300 es\n",
    "    // For some reason it is required to specify precision, otherwise error.\n",
    "    precision highp float;\n",
    "    in vec3 coord_color;\n",
    "    //out vec4 color;\n",
    "    out vec4 fragmentColor;\n",
    "\n",
    "    void main() {\n",
    "        fragmentColor = vec4(coord_color, 1.0);\n",
    "    }\n",
    "\"\"\"\n",
    "\n",
    "feedback_program = fd.FeedbackProgram(\n",
    "    program = fd.Program(\n",
    "        vertex_shader = vertex_shader,\n",
    "        fragment_shader = fragment_shader,\n",
    "        feedbacks = fd.Feedbacks(\n",
    "            output_vertex = fd.Feedback(num_components=3),\n",
    "        ),\n",
    "    ),\n",
    "    runner = fd.Runner(\n",
    "        vertices_per_instance = 3 * len(triangles),\n",
    "        run_type = \"TRIANGLES\",\n",
    "        uniforms = fd.Uniforms(\n",
    "            rotation_matrix = fd.Uniform(\n",
    "                default_value = list(M.ravel()),\n",
    "                vtype = \"4fv\",\n",
    "                is_matrix = True,\n",
    "            ),\n",
    "        ),\n",
    "        inputs = fd.Inputs(\n",
    "            coordinates = fd.Input(\n",
    "                num_components = 3,\n",
    "                from_buffer = fd.BufferLocation(\n",
    "                    name = \"coordinates_buffer\", # start at the beginning, don't skip any values...\n",
    "                ),\n",
    "            ),\n",
    "            vcolor = fd.Input(\n",
    "                num_components = 3,\n",
    "                from_buffer = fd.BufferLocation(\n",
    "                    name = \"colors_buffer\", # start at the beginning, don't skip any values...\n",
    "                ),\n",
    "            ),\n",
    "        ),\n",
    "    ),\n",
    "    context = fd.Context(\n",
    "        buffers = fd.Buffers(\n",
    "            coordinates_buffer = fd.Buffer(\n",
    "                array=list(vertices),\n",
    "            ),\n",
    "            colors_buffer = fd.Buffer(\n",
    "                array=list(tcolors.ravel()),\n",
    "            )\n",
    "        ),\n",
    "        width = 600,\n",
    "        show = True,\n",
    "    ),\n",
    ")\n",
    "\n",
    "# display the widget and debugging information\n",
    "feedback_program.debugging_display()\n",
    "#feedback_program"
   ]
  },
  {
   "cell_type": "code",
   "execution_count": null,
   "metadata": {},
   "outputs": [],
   "source": [
    "#feedback_program.run()\n",
    "interact(rotate, phi=(-1.0, 1.0), theta=(-1.0, 1.0), xt=(-1.0, 1.0), yt=(-1.0, 1.0), zt=(-1.0, 1.0))"
   ]
  },
  {
   "cell_type": "code",
   "execution_count": null,
   "metadata": {},
   "outputs": [],
   "source": [
    "#move_corner(x=-0.1)"
   ]
  },
  {
   "cell_type": "code",
   "execution_count": null,
   "metadata": {},
   "outputs": [],
   "source": [
    "A1 = np.array(feedback_program.get_feedback(\"output_vertex\"))\n",
    "A1"
   ]
  },
  {
   "cell_type": "code",
   "execution_count": null,
   "metadata": {},
   "outputs": [],
   "source": [
    "A2 = np.array(feedback_program.get_feedback(\"output_vertex\"))\n",
    "A2"
   ]
  },
  {
   "cell_type": "code",
   "execution_count": null,
   "metadata": {},
   "outputs": [],
   "source": [
    "A1 - A2"
   ]
  },
  {
   "cell_type": "code",
   "execution_count": null,
   "metadata": {},
   "outputs": [],
   "source": [
    "colors"
   ]
  },
  {
   "cell_type": "code",
   "execution_count": null,
   "metadata": {},
   "outputs": [],
   "source": [
    "np.abs(np.linalg.det(M))"
   ]
  },
  {
   "cell_type": "code",
   "execution_count": null,
   "metadata": {},
   "outputs": [],
   "source": []
  }
 ],
 "metadata": {
  "kernelspec": {
   "display_name": "Python 3",
   "language": "python",
   "name": "python3"
  },
  "language_info": {
   "codemirror_mode": {
    "name": "ipython",
    "version": 3
   },
   "file_extension": ".py",
   "mimetype": "text/x-python",
   "name": "python",
   "nbconvert_exporter": "python",
   "pygments_lexer": "ipython3",
   "version": "3.6.8"
  }
 },
 "nbformat": 4,
 "nbformat_minor": 4
}
