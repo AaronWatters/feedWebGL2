{
 "cells": [
  {
   "cell_type": "markdown",
   "metadata": {},
   "source": [
    "Adapted from https://www.tutorialspoint.com/webgl/webgl_sample_application.htm"
   ]
  },
  {
   "cell_type": "code",
   "execution_count": 1,
   "metadata": {},
   "outputs": [
    {
     "data": {
      "text/html": [
       "<style>.container { width:100% !important; }</style>"
      ],
      "text/plain": [
       "<IPython.core.display.HTML object>"
      ]
     },
     "metadata": {},
     "output_type": "display_data"
    }
   ],
   "source": [
    "import feedWebGL2.feedback as fd\n",
    "from ipywidgets import interact, interactive, fixed, interact_manual\n",
    "fd.widen_notebook()"
   ]
  },
  {
   "cell_type": "code",
   "execution_count": 2,
   "metadata": {},
   "outputs": [
    {
     "data": {
      "application/vnd.jupyter.widget-view+json": {
       "model_id": "153aecdef922412a84c3f3686baaf324",
       "version_major": 2,
       "version_minor": 0
      },
      "text/plain": [
       "FeedbackProgram(status='deferring flush until render')"
      ]
     },
     "metadata": {},
     "output_type": "display_data"
    }
   ],
   "source": [
    "\n",
    "vertex_shader = \"\"\"#version 300 es\n",
    "    uniform float scale;\n",
    "    in vec3 coordinates;\n",
    "    in vec3 offset;\n",
    "    in vec3 color;\n",
    "    out vec3 output_vertex;\n",
    "    out vec3 output_color;\n",
    "\n",
    "    void main() {\n",
    "        vec3 scaled = scale * (coordinates + offset);\n",
    "        gl_Position = vec4(scaled, 1.0);\n",
    "        output_vertex = gl_Position.xyz;\n",
    "        output_color = color;\n",
    "    }\n",
    "\"\"\"\n",
    "\n",
    "fragment_shader = \"\"\"#version 300 es\n",
    "    precision highp float;\n",
    "    in vec3 output_color;\n",
    "    out vec4 color;\n",
    "\n",
    "    void main() {\n",
    "        color = vec4(output_color, 1.0);\n",
    "    }\n",
    "\"\"\"\n",
    "\n",
    "vertices = [-1, 0, 0, -1, -1, 0, 0, -1, 0]\n",
    "offsets = [0, 0, 0, 0, 1, 0.1, 1, 0, 0.2, 1, 1, 0.3]\n",
    "colors = [1, 0, 0, 0, 1, 0, 0, 0, 1, 0, 1, 1]\n",
    "\n",
    "feedback_program = fd.FeedbackProgram(\n",
    "    context = fd.Context(\n",
    "        buffers = fd.Buffers(\n",
    "            coordinates_buffer = fd.Buffer(array=vertices),\n",
    "            offsets_buffer = fd.Buffer(array=offsets),\n",
    "            colors_buffer = fd.Buffer(array=colors)\n",
    "        ),\n",
    "        width = 600,\n",
    "        show = True,\n",
    "    ),\n",
    "    runner = fd.Runner(\n",
    "        num_instances = 4,\n",
    "        vertices_per_instance = 3,\n",
    "        run_type = \"TRIANGLES\",\n",
    "        uniforms = fd.Uniforms(\n",
    "            scale = fd.Uniform(\n",
    "                default_value = [0.5],\n",
    "            ),\n",
    "        ),\n",
    "        inputs = fd.Inputs(\n",
    "            coordinates = fd.Input(\n",
    "                num_components = 3,\n",
    "                from_buffer = fd.BufferLocation(\n",
    "                    name = \"coordinates_buffer\",\n",
    "                )\n",
    "            ),\n",
    "            color = fd.Input(\n",
    "                num_components = 3,\n",
    "                from_buffer = fd.BufferLocation(\n",
    "                    name = \"colors_buffer\",\n",
    "                )\n",
    "            ),\n",
    "            offset = fd.Input(\n",
    "                per_vertex = False,\n",
    "                num_components = 3,\n",
    "                from_buffer = fd.BufferLocation(\n",
    "                    name = \"offsets_buffer\",\n",
    "                )\n",
    "            ),\n",
    "        ),\n",
    "    ),\n",
    "    program = fd.Program(\n",
    "        vertex_shader = vertex_shader,\n",
    "        fragment_shader = fragment_shader,\n",
    "        feedbacks = fd.Feedbacks(\n",
    "            output_vertex = fd.Feedback(num_components=3),\n",
    "        ),\n",
    "    ),\n",
    ")\n",
    "\n",
    "# display the widget and debugging information\n",
    "#feedback_program.debugging_display()\n",
    "feedback_program.run()\n",
    "feedback_program"
   ]
  },
  {
   "cell_type": "code",
   "execution_count": 3,
   "metadata": {},
   "outputs": [
    {
     "data": {
      "application/vnd.jupyter.widget-view+json": {
       "model_id": "bffb0331f2ed4efc85813775cccc6fa5",
       "version_major": 2,
       "version_minor": 0
      },
      "text/plain": [
       "interactive(children=(FloatSlider(value=-0.5, description='x', max=1.0, min=-1.0), FloatSlider(value=0.5, desc…"
      ]
     },
     "metadata": {},
     "output_type": "display_data"
    },
    {
     "data": {
      "text/plain": [
       "<function __main__.move_corner(x=-0.5, scale=0.5, offsetx=0.0)>"
      ]
     },
     "execution_count": 3,
     "metadata": {},
     "output_type": "execute_result"
    }
   ],
   "source": [
    "def move_corner(x=-0.5, scale=0.5, offsetx=0.0):\n",
    "    new_vertices = vertices[:]\n",
    "    new_vertices[0] = x\n",
    "    feedback_program.change_buffer(\"coordinates_buffer\", new_vertices)\n",
    "    new_offsets = offsets[:]\n",
    "    new_offsets[0] = offsetx\n",
    "    feedback_program.change_buffer(\"offsets_buffer\", new_offsets)\n",
    "    feedback_program.change_uniform_vector(\"scale\", [scale])\n",
    "    feedback_program.run()\n",
    "\n",
    "interact(move_corner, x=(-1.0, 1.0), scale=(0.0, 1.0))"
   ]
  },
  {
   "cell_type": "code",
   "execution_count": 4,
   "metadata": {},
   "outputs": [],
   "source": [
    "move_corner(x=-0.1)"
   ]
  },
  {
   "cell_type": "code",
   "execution_count": 5,
   "metadata": {},
   "outputs": [
    {
     "data": {
      "text/plain": [
       "[[-0.05000000074505806, 0, 0],\n",
       " [-0.5, -0.5, 0],\n",
       " [0, -0.5, 0],\n",
       " [-0.05000000074505806, 0.5, 0.05000000074505806],\n",
       " [-0.5, 0, 0.05000000074505806],\n",
       " [0, 0, 0.05000000074505806],\n",
       " [0.44999998807907104, 0, 0.10000000149011612],\n",
       " [0, -0.5, 0.10000000149011612],\n",
       " [0.5, -0.5, 0.10000000149011612],\n",
       " [0.44999998807907104, 0.5, 0.15000000596046448],\n",
       " [0, 0, 0.15000000596046448],\n",
       " [0.5, 0, 0.15000000596046448]]"
      ]
     },
     "execution_count": 5,
     "metadata": {},
     "output_type": "execute_result"
    }
   ],
   "source": [
    "feedback_program.get_feedback(\"output_vertex\")"
   ]
  },
  {
   "cell_type": "code",
   "execution_count": 6,
   "metadata": {},
   "outputs": [],
   "source": [
    "#import time\n",
    "def ttest():\n",
    "    for i in range(-100, 100):\n",
    "        move_corner(i/100.0)\n",
    "        #time.sleep(0.01)\n",
    "        #print(i)\n",
    "ttest()"
   ]
  },
  {
   "cell_type": "code",
   "execution_count": null,
   "metadata": {},
   "outputs": [],
   "source": []
  },
  {
   "cell_type": "code",
   "execution_count": null,
   "metadata": {},
   "outputs": [],
   "source": []
  }
 ],
 "metadata": {
  "kernelspec": {
   "display_name": "Python 3",
   "language": "python",
   "name": "python3"
  },
  "language_info": {
   "codemirror_mode": {
    "name": "ipython",
    "version": 3
   },
   "file_extension": ".py",
   "mimetype": "text/x-python",
   "name": "python",
   "nbconvert_exporter": "python",
   "pygments_lexer": "ipython3",
   "version": "3.6.8"
  }
 },
 "nbformat": 4,
 "nbformat_minor": 4
}
