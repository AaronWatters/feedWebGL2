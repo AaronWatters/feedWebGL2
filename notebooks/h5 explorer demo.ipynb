{
 "cells": [
  {
   "cell_type": "markdown",
   "metadata": {},
   "source": [
    "# H5 explorer\n",
    "\n",
    "The h5explorer module provides a jupyter widget implementation for \n",
    "looking at 3 dimensional volumes in HDF5 files in a folder.\n",
    "\n",
    "It allows the user to insert \"filters\" for modifying the volumes\n",
    "and supports saving volumes in existing or new files."
   ]
  },
  {
   "cell_type": "code",
   "execution_count": null,
   "metadata": {},
   "outputs": [],
   "source": [
    "from feedWebGL2 import h5explorer"
   ]
  },
  {
   "cell_type": "code",
   "execution_count": null,
   "metadata": {},
   "outputs": [],
   "source": [
    "E = h5explorer.Explorer()"
   ]
  },
  {
   "cell_type": "markdown",
   "metadata": {},
   "source": [
    "# Adding custom filters\n",
    "\n",
    "The explorer implementation allows the user to define custom\n",
    "array transformation filters which define how to change a 3d volume array\n",
    "using parameters which can be specified interactively.\n",
    "\n",
    "The following example adds a simple (but not very useful) filter implementation\n",
    "to an explorer object.  See the h5explorer.py source code for more examples\n",
    "of filter implementations."
   ]
  },
  {
   "cell_type": "code",
   "execution_count": 2,
   "metadata": {},
   "outputs": [],
   "source": [
    "# Make a custom filter as a subclass of h5explorer.LogFilter\n",
    "from feedWebGL2 import h5explorer\n",
    "\n",
    "# Use standard Jupyter widget implementations to construct the interactive controls.\n",
    "import ipywidgets as widgets\n",
    "\n",
    "class FlipFilter(h5explorer.LogFilter):\n",
    "    \n",
    "    \"Flip axes -- a simple filter example.\"\n",
    "\n",
    "    # title is required\n",
    "    title = \"Flip\"\n",
    "\n",
    "    def widget(self):\n",
    "        \"The widget method defines the parameters for the filter.\"\n",
    "        html1 = widgets.HTML(\"<H1>Flip one of the dimensions.</H1>\")\n",
    "        # self.info is required\n",
    "        self.info = widgets.HTML(\"<div>Parameters</div>\")\n",
    "        # other parameters\n",
    "        self.axis_name_dropdown = widgets.Dropdown(description=\"Axis to flip\", options=[\"I\", \"J\", \"K\"])\n",
    "        # apply button is required\n",
    "        self.button = widgets.Button(\n",
    "            description=\"Flip it!\",\n",
    "        )\n",
    "        self.button.on_click(self.apply)\n",
    "        # Construct a widget container including all sub-widgets\n",
    "        return widgets.VBox([html1, self.info, self.axis_name_dropdown, self.button])\n",
    "\n",
    "    def apply(self, button):\n",
    "        \"\"\"\n",
    "        The apply method defines how to execute the filter using the parameters.\n",
    "        It must test that the image is defined.\n",
    "        \"\"\"\n",
    "        # make sure an image has been loaded:\n",
    "        ex = self.in_explorer\n",
    "        image_array = ex.current_image\n",
    "        if image_array is None:\n",
    "            # no image: abort...\n",
    "            self.update()\n",
    "            return\n",
    "        # Get parameters\n",
    "        axis_name = self.axis_name_dropdown.value\n",
    "        # apply the filter to the image\n",
    "        if axis_name == \"I\":\n",
    "            flipped = image_array[::-1, :, :]\n",
    "        elif axis_name == \"J\":\n",
    "            flipped = image_array[:, ::-1, :]\n",
    "        elif axis_name == \"K\":\n",
    "            flipped = image_array[:, :, ::-1]\n",
    "        else:\n",
    "            self.info.value = \"??? Unknown axis name: \" + repr(axis_name)\n",
    "            return\n",
    "        # store the modified array\n",
    "        ex.current_image = flipped\n",
    "        # redisplay all widgets\n",
    "        ex.update_all()\n"
   ]
  },
  {
   "cell_type": "code",
   "execution_count": 3,
   "metadata": {},
   "outputs": [
    {
     "data": {
      "text/html": [
       "<style>.container { width:100% !important; }</style>"
      ],
      "text/plain": [
       "<IPython.core.display.HTML object>"
      ]
     },
     "metadata": {},
     "output_type": "display_data"
    },
    {
     "data": {
      "application/vnd.jupyter.widget-view+json": {
       "model_id": "46cd82a96c7d4cf789ec933a28ec96fd",
       "version_major": 2,
       "version_minor": 0
      },
      "text/plain": [
       "VBox(children=(HTML(value='<div>No file is selected</div>'), Tab(children=(VBox(children=(HTML(value='<H1>Sele…"
      ]
     },
     "metadata": {},
     "output_type": "display_data"
    }
   ],
   "source": [
    "# Configure an explorer with some the standard filters and also the FlipFilter\n",
    "\n",
    "filter_classes = [\n",
    "    h5explorer.LogFilter,\n",
    "    h5explorer.BlurFilter,\n",
    "    h5explorer.SubsampleFilter,\n",
    "    FlipFilter,\n",
    "]\n",
    "\n",
    "CustomExplorer = h5explorer.Explorer(\n",
    "    filters = filter_classes,\n",
    ")"
   ]
  },
  {
   "cell_type": "code",
   "execution_count": null,
   "metadata": {},
   "outputs": [],
   "source": []
  }
 ],
 "metadata": {
  "kernelspec": {
   "display_name": "Python 3",
   "language": "python",
   "name": "python3"
  },
  "language_info": {
   "codemirror_mode": {
    "name": "ipython",
    "version": 3
   },
   "file_extension": ".py",
   "mimetype": "text/x-python",
   "name": "python",
   "nbconvert_exporter": "python",
   "pygments_lexer": "ipython3",
   "version": "3.6.8"
  }
 },
 "nbformat": 4,
 "nbformat_minor": 4
}
