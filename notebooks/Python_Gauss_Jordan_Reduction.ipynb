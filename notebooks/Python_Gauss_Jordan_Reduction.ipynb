{
 "cells": [
  {
   "cell_type": "markdown",
   "metadata": {},
   "source": [
    "# Matrix inversion using Gauss Jordan Reduction Python Sketch\n",
    "\n",
    "Since it's easier to test and debug Python code, sketch the algorithm first in Python\n",
    "before converting to a Transform/Feedback program.\n",
    "\n",
    "https://en.wikipedia.org/wiki/Gaussian_elimination"
   ]
  },
  {
   "cell_type": "code",
   "execution_count": 1,
   "metadata": {},
   "outputs": [
    {
     "data": {
      "text/html": [
       "<style>.container { width:100% !important; }</style>"
      ],
      "text/plain": [
       "<IPython.core.display.HTML object>"
      ]
     },
     "metadata": {},
     "output_type": "display_data"
    }
   ],
   "source": [
    "import feedWebGL2.feedback as fd\n",
    "import numpy as np\n",
    "fd.widen_notebook()\n",
    "np.set_printoptions(precision=2)"
   ]
  },
  {
   "cell_type": "code",
   "execution_count": 2,
   "metadata": {},
   "outputs": [
    {
     "data": {
      "text/plain": [
       "array([[0., 1., 4., 1., 0., 0.],\n",
       "       [1., 0., 1., 0., 1., 0.],\n",
       "       [0., 2., 3., 0., 0., 1.]])"
      ]
     },
     "execution_count": 2,
     "metadata": {},
     "output_type": "execute_result"
    }
   ],
   "source": [
    "# First analogous code in simple Python\n",
    "\n",
    "def expanded_matrix(square_matrix):\n",
    "    (n, m) = square_matrix.shape\n",
    "    assert n == m, \"matrix is not square: \" + repr(square_matrix.shape)\n",
    "    result = np.zeros( (n, n+n), dtype=np.float)\n",
    "    result[:, :n] = square_matrix\n",
    "    result[:, n:] = np.eye(n)\n",
    "    return result\n",
    "\n",
    "N = 5\n",
    "sq = np.sqrt(np.arange(N*N).reshape((N,N)))-2.4\n",
    "if 1:\n",
    "    sq = np.array([\n",
    "        [0,1,4],\n",
    "        [1,0,1],\n",
    "        [0,2,3],\n",
    "    ])\n",
    "    N = sq.shape[0]\n",
    "sq_expanded = expanded_matrix(sq)\n",
    "sq_expanded"
   ]
  },
  {
   "cell_type": "code",
   "execution_count": 3,
   "metadata": {},
   "outputs": [
    {
     "data": {
      "text/plain": [
       "(2, 2.0)"
      ]
     },
     "execution_count": 3,
     "metadata": {},
     "output_type": "execute_result"
    }
   ],
   "source": [
    "def choose_swap_row_and_pivot_value(expanded_matrix, pivot_column_index):\n",
    "    \"Implement in javascript\"\n",
    "    swap_row_index = pivot_column_index\n",
    "    # Store matrix in column major order to enable column slicing easily from GPU buffer.\n",
    "    pivot_column = expanded_matrix[:, pivot_column_index]\n",
    "    pivot_value = 0.0\n",
    "    nrows = expanded_matrix.shape[0]\n",
    "    for index in range(pivot_column_index, nrows):\n",
    "        #value = expanded_matrix[index, pivot_column_index]\n",
    "        value = pivot_column[index]\n",
    "        if abs(value) > abs(pivot_value):\n",
    "            pivot_value = value\n",
    "            swap_row_index = index\n",
    "    return (swap_row_index, pivot_value)\n",
    "\n",
    "choose_swap_row_and_pivot_value(sq_expanded, 1)"
   ]
  },
  {
   "cell_type": "code",
   "execution_count": 4,
   "metadata": {},
   "outputs": [
    {
     "data": {
      "text/plain": [
       "(2, 3.0)"
      ]
     },
     "execution_count": 4,
     "metadata": {},
     "output_type": "execute_result"
    }
   ],
   "source": [
    "choose_swap_row_and_pivot_value(sq_expanded, 2)"
   ]
  },
  {
   "cell_type": "code",
   "execution_count": 5,
   "metadata": {},
   "outputs": [
    {
     "data": {
      "text/plain": [
       "[1.0, 0.0, 0.0]"
      ]
     },
     "execution_count": 5,
     "metadata": {},
     "output_type": "execute_result"
    }
   ],
   "source": [
    "def swapped_pivoted_entry(expanded_matrix, irow, icol, ipivot, iswap, pivot_value):\n",
    "    \"Implement as shader.\"\n",
    "    # expanded_matrix: texture\n",
    "    # irow: vertex attribute\n",
    "    # icol: instance attribute\n",
    "    # ipivot, iswap, pivot_value: uniforms\n",
    "    assert pivot_value == expanded_matrix[iswap, ipivot], repr((iswap,ipivot, pivot_value, expanded_matrix[iswap, ipivot]))\n",
    "    irow0 = irow\n",
    "    if (icol == ipivot):\n",
    "        if (irow == ipivot):\n",
    "            #print (irow, icol, \"pivot location\", 1.0)\n",
    "            return 1.0\n",
    "        else:\n",
    "            #print (irow, icol, \"pivot column\", 0.0)\n",
    "            return 0.0\n",
    "    if (irow == ipivot):\n",
    "        value = expanded_matrix[iswap, icol]\n",
    "        result = value / pivot_value\n",
    "        #print (irow, icol, \"pivot row\", result)\n",
    "        return result\n",
    "    elif (irow == iswap):\n",
    "        irow = ipivot\n",
    "    value = expanded_matrix[irow, icol]\n",
    "    pivot_column_value = expanded_matrix[iswap, icol]\n",
    "    factor = pivot_column_value / pivot_value\n",
    "    pivot_row_value = expanded_matrix[irow, ipivot]\n",
    "    result = value - factor * pivot_row_value\n",
    "    #print (irow0, icol, ipivot, iswap, pivot_value, \"::\", irow, value, pivot_column_value, pivot_row_value, result)\n",
    "    return result\n",
    "\n",
    "[swapped_pivoted_entry(sq_expanded, i, 0, 0, 1, 1.0) for i in range(N)]"
   ]
  },
  {
   "cell_type": "code",
   "execution_count": 6,
   "metadata": {},
   "outputs": [
    {
     "name": "stdout",
     "output_type": "stream",
     "text": [
      "[[0. 1. 4. 1. 0. 0.]\n",
      " [1. 0. 1. 0. 1. 0.]\n",
      " [0. 2. 3. 0. 0. 1.]]\n"
     ]
    },
    {
     "data": {
      "text/plain": [
       "array([[1., 0., 1., 0., 1., 0.],\n",
       "       [0., 1., 4., 1., 0., 0.],\n",
       "       [0., 2., 3., 0., 0., 1.]])"
      ]
     },
     "execution_count": 6,
     "metadata": {},
     "output_type": "execute_result"
    }
   ],
   "source": [
    "def pivot_step(expanded_matrix, ipivot, epsilon=1e-16):\n",
    "    \"Main loop step, implement in javascript.\"\n",
    "    result = expanded_matrix.copy()\n",
    "    (iswap, pivot_value) = choose_swap_row_and_pivot_value(expanded_matrix, ipivot)\n",
    "    if abs(pivot_value) < epsilon:\n",
    "        raise ZeroDivisionError(\"Cannot pivot matrix -- pivot value too small: \" + repr((ipivot, iswap, pivot_value)))\n",
    "    #print(ipivot, \"pivotting\", iswap, pivot_value)\n",
    "    (n, m) = result.shape\n",
    "    for irow in range(n):\n",
    "        for icol in range(m):\n",
    "            result[irow, icol] = swapped_pivoted_entry(expanded_matrix, irow, icol, ipivot, iswap, pivot_value)\n",
    "    return result\n",
    "\n",
    "print(sq_expanded)\n",
    "pivot_step(sq_expanded, 0)"
   ]
  },
  {
   "cell_type": "code",
   "execution_count": 7,
   "metadata": {},
   "outputs": [
    {
     "name": "stdout",
     "output_type": "stream",
     "text": [
      "[[-1.  1.]\n",
      " [ 1.  0.]]\n"
     ]
    },
    {
     "data": {
      "text/plain": [
       "array([[1., 0.],\n",
       "       [0., 1.]])"
      ]
     },
     "execution_count": 7,
     "metadata": {},
     "output_type": "execute_result"
    }
   ],
   "source": [
    "def gauss_jordan_invert(square_matrix):\n",
    "    \"Sketch to be implemented using WebGL transform/feedback.\"\n",
    "    nrows = square_matrix.shape[0]\n",
    "    expanded = expanded_matrix(square_matrix)\n",
    "    for ipivot in range(nrows):\n",
    "        expanded = pivot_step(expanded, ipivot)\n",
    "    inverse = expanded[:, nrows:]\n",
    "    return inverse\n",
    "\n",
    "A22 = np.array([\n",
    "    [0, 1],\n",
    "    [1, 1],\n",
    "])\n",
    "A22inv = gauss_jordan_invert(A22)\n",
    "print (A22inv)\n",
    "A22inv.dot(A22)"
   ]
  },
  {
   "cell_type": "code",
   "execution_count": 8,
   "metadata": {},
   "outputs": [
    {
     "data": {
      "text/plain": [
       "array([[ 1.,  0., -0., -0., -0., -0., -0.,  0., -0., -0.],\n",
       "       [ 0.,  1.,  0., -0., -0.,  0., -0.,  0., -0.,  0.],\n",
       "       [ 0.,  0.,  1.,  0.,  0., -0., -0.,  0., -0., -0.],\n",
       "       [ 0.,  0.,  0.,  1., -0.,  0., -0.,  0.,  0.,  0.],\n",
       "       [ 0.,  0.,  0.,  0.,  1., -0., -0.,  0., -0., -0.],\n",
       "       [ 0., -0.,  0.,  0.,  0.,  1., -0.,  0., -0.,  0.],\n",
       "       [ 0.,  0., -0., -0., -0., -0.,  1.,  0., -0., -0.],\n",
       "       [ 0., -0.,  0.,  0., -0., -0., -0.,  1., -0., -0.],\n",
       "       [ 0.,  0.,  0., -0., -0., -0., -0.,  0.,  1.,  0.],\n",
       "       [ 0.,  0.,  0.,  0.,  0., -0., -0.,  0., -0.,  1.]])"
      ]
     },
     "execution_count": 8,
     "metadata": {},
     "output_type": "execute_result"
    }
   ],
   "source": [
    "A100 = np.random.random(100).reshape(10, 10)\n",
    "A100inv = gauss_jordan_invert(A100)\n",
    "# remove floating point cruft\n",
    "np.round(10000 * A100.dot(A100inv))/10000"
   ]
  },
  {
   "cell_type": "code",
   "execution_count": null,
   "metadata": {},
   "outputs": [],
   "source": []
  }
 ],
 "metadata": {
  "kernelspec": {
   "display_name": "Python 3",
   "language": "python",
   "name": "python3"
  },
  "language_info": {
   "codemirror_mode": {
    "name": "ipython",
    "version": 3
   },
   "file_extension": ".py",
   "mimetype": "text/x-python",
   "name": "python",
   "nbconvert_exporter": "python",
   "pygments_lexer": "ipython3",
   "version": "3.6.8"
  }
 },
 "nbformat": 4,
 "nbformat_minor": 4
}
