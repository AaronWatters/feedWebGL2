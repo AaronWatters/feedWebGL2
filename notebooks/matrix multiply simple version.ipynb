{
 "cells": [
  {
   "cell_type": "code",
   "execution_count": null,
   "metadata": {},
   "outputs": [],
   "source": []
  },
  {
   "cell_type": "code",
   "execution_count": 1,
   "metadata": {},
   "outputs": [
    {
     "data": {
      "text/html": [
       "<style>.container { width:100% !important; }</style>"
      ],
      "text/plain": [
       "<IPython.core.display.HTML object>"
      ]
     },
     "metadata": {},
     "output_type": "display_data"
    }
   ],
   "source": [
    "import feedWebGL2.feedback as fd\n",
    "import numpy as np\n",
    "fd.widen_notebook()\n",
    "np.set_printoptions(precision=4)"
   ]
  },
  {
   "cell_type": "code",
   "execution_count": 2,
   "metadata": {},
   "outputs": [
    {
     "data": {
      "text/plain": [
       "array([[1.0000e-02, 1.1000e-01, 2.1000e-01, ..., 4.7100e+00, 4.8100e+00,\n",
       "        4.9100e+00],\n",
       "       [5.0100e+00, 5.1100e+00, 5.2100e+00, ..., 9.7100e+00, 9.8100e+00,\n",
       "        9.9100e+00],\n",
       "       [1.0010e+01, 1.0110e+01, 1.0210e+01, ..., 1.4710e+01, 1.4810e+01,\n",
       "        1.4910e+01],\n",
       "       ...,\n",
       "       [1.8501e+02, 1.8511e+02, 1.8521e+02, ..., 1.8971e+02, 1.8981e+02,\n",
       "        1.8991e+02],\n",
       "       [1.9001e+02, 1.9011e+02, 1.9021e+02, ..., 1.9471e+02, 1.9481e+02,\n",
       "        1.9491e+02],\n",
       "       [1.9501e+02, 1.9511e+02, 1.9521e+02, ..., 1.9971e+02, 1.9981e+02,\n",
       "        1.9991e+02]])"
      ]
     },
     "execution_count": 2,
     "metadata": {},
     "output_type": "execute_result"
    }
   ],
   "source": [
    "n = 40\n",
    "m = 50\n",
    "k = 30\n",
    "\n",
    "M1 = np.arange(n*m).reshape(n,m) * 0.1 + 0.01\n",
    "M1"
   ]
  },
  {
   "cell_type": "code",
   "execution_count": 3,
   "metadata": {},
   "outputs": [
    {
     "data": {
      "text/plain": [
       "array([[ 2.9100e+01,  1.9100e+01,  9.1000e+00, ..., -2.4090e+02,\n",
       "        -2.5090e+02, -2.6090e+02],\n",
       "       [-2.7090e+02, -2.8090e+02, -2.9090e+02, ..., -5.4090e+02,\n",
       "        -5.5090e+02, -5.6090e+02],\n",
       "       [-5.7090e+02, -5.8090e+02, -5.9090e+02, ..., -8.4090e+02,\n",
       "        -8.5090e+02, -8.6090e+02],\n",
       "       ...,\n",
       "       [-1.4071e+04, -1.4081e+04, -1.4091e+04, ..., -1.4341e+04,\n",
       "        -1.4351e+04, -1.4361e+04],\n",
       "       [-1.4371e+04, -1.4381e+04, -1.4391e+04, ..., -1.4641e+04,\n",
       "        -1.4651e+04, -1.4661e+04],\n",
       "       [-1.4671e+04, -1.4681e+04, -1.4691e+04, ..., -1.4941e+04,\n",
       "        -1.4951e+04, -1.4961e+04]])"
      ]
     },
     "execution_count": 3,
     "metadata": {},
     "output_type": "execute_result"
    }
   ],
   "source": [
    "M2 = np.arange(m*k).reshape(m,k) * -10 + 29.1\n",
    "M2"
   ]
  },
  {
   "cell_type": "code",
   "execution_count": 4,
   "metadata": {},
   "outputs": [
    {
     "data": {
      "text/plain": [
       "array([[ -1212845.7,  -1214075.7,  -1215305.7, ...,  -1246055.7,\n",
       "         -1247285.7,  -1248515.7],\n",
       "       [ -3043070.7,  -3046800.7,  -3050530.7, ...,  -3143780.7,\n",
       "         -3147510.7,  -3151240.7],\n",
       "       [ -4873295.7,  -4879525.7,  -4885755.7, ...,  -5041505.7,\n",
       "         -5047735.7,  -5053965.7],\n",
       "       ...,\n",
       "       [-68931170.7, -69024900.7, -69118630.7, ..., -71461880.7,\n",
       "        -71555610.7, -71649340.7],\n",
       "       [-70761395.7, -70857625.7, -70953855.7, ..., -73359605.7,\n",
       "        -73455835.7, -73552065.7],\n",
       "       [-72591620.7, -72690350.7, -72789080.7, ..., -75257330.7,\n",
       "        -75356060.7, -75454790.7]])"
      ]
     },
     "execution_count": 4,
     "metadata": {},
     "output_type": "execute_result"
    }
   ],
   "source": [
    "np_product = M1.dot(M2)\n",
    "np_product"
   ]
  },
  {
   "cell_type": "code",
   "execution_count": 5,
   "metadata": {},
   "outputs": [
    {
     "data": {
      "application/vnd.jupyter.widget-view+json": {
       "model_id": "3ed8298b7ad742539119c039f0b15dc7",
       "version_major": 2,
       "version_minor": 0
      },
      "text/plain": [
       "VBox(children=(FeedbackProgram(status='deferring flush until render'), Text(value='deferring flush until rende…"
      ]
     },
     "metadata": {},
     "output_type": "display_data"
    }
   ],
   "source": [
    "shader_GLSL_code = \"\"\"#version 300 es\n",
    "\n",
    "    // rows are \"per mesh\"\n",
    "    in float aRow;\n",
    "    // columns are \"per vertex\"\n",
    "    in float aCol;\n",
    "\n",
    "    uniform sampler2D RightMatrix;\n",
    "    uniform sampler2D LeftMatrix;\n",
    "\n",
    "    // matrix multiplication entry at aRow, aCol\n",
    "    out float dot_product;\n",
    "\n",
    "    void main() {\n",
    "        // foil the optimizer\n",
    "        gl_Position = vec4(aRow, aCol, aRow, aCol);\n",
    "        int iCol = gl_VertexID;\n",
    "        int iRow = gl_InstanceID;\n",
    "        ivec2 lsize = textureSize(LeftMatrix, 0);\n",
    "        ivec2 rsize = textureSize(RightMatrix, 0);\n",
    "        //int N = lsize[0];\n",
    "        int Klimit = lsize[0];\n",
    "        // assert Klimit == rsize[1]\n",
    "        //int M = rsize[1];\n",
    "        float elt_sum = 0.0;\n",
    "        for (int k=0; k<Klimit; k++) {\n",
    "            // data in the red component only.\n",
    "            //float l_value = texelFetch(LeftMatrix, ivec2(iRow, k), 0).r;\n",
    "            //float r_value = texelFetch(RightMatrix, ivec2(k, iCol), 0).r;\n",
    "            float l_value = texelFetch(LeftMatrix, ivec2(k, iRow), 0).r;\n",
    "            float r_value = texelFetch(RightMatrix, ivec2(iCol, k), 0).r;\n",
    "            elt_sum += l_value * r_value;\n",
    "        }\n",
    "        dot_product = elt_sum;\n",
    "    }\n",
    "\"\"\"\n",
    "\n",
    "(n, k) + (M1.shape[0], M2.shape[1])\n",
    "\n",
    "feedback_program = fd.FeedbackProgram(\n",
    "    context = fd.Context(\n",
    "        buffers = fd.Buffers(\n",
    "            counter_buffer = fd.Buffer(\n",
    "                array = list(range(max(n, k)))\n",
    "            ),\n",
    "        ),\n",
    "        textures= fd.Textures(\n",
    "            LeftMatrix= fd.Texture(\n",
    "                height= M1.shape[0],\n",
    "                width=  M1.shape[1],\n",
    "                array= list(M1.ravel()),\n",
    "            ),\n",
    "            RightMatrix= fd.Texture(\n",
    "                height= M2.shape[0],\n",
    "                width=  M2.shape[1],\n",
    "                array= list(M2.ravel()),\n",
    "            ),\n",
    "        ),\n",
    "    ),\n",
    "    runner = fd.Runner(\n",
    "        num_instances = n,\n",
    "        vertices_per_instance = k,\n",
    "        inputs = fd.Inputs(\n",
    "            aRow = fd.Input(\n",
    "                num_components = 1,\n",
    "                from_buffer = fd.BufferLocation(\n",
    "                    name = \"counter_buffer\",\n",
    "                )\n",
    "            ),\n",
    "            aCol = fd.Input(\n",
    "                per_vertex = False,\n",
    "                num_components = 1,\n",
    "                from_buffer = fd.BufferLocation(\n",
    "                    name = \"counter_buffer\",\n",
    "                )\n",
    "            ),\n",
    "        ),\n",
    "        samplers = fd.Samplers(\n",
    "            LeftMatrix = fd.Sampler(\n",
    "                dim= \"2D\",\n",
    "                from_texture= \"LeftMatrix\",\n",
    "            ),\n",
    "            RightMatrix = fd.Sampler(\n",
    "                dim= \"2D\",\n",
    "                from_texture= \"RightMatrix\",\n",
    "            ),\n",
    "        ),\n",
    "    ),\n",
    "    program = fd.Program(\n",
    "        vertex_shader = shader_GLSL_code,\n",
    "        feedbacks = fd.Feedbacks(\n",
    "            dot_product = fd.Feedback(num_components=1),\n",
    "        ),\n",
    "    ),\n",
    ")\n",
    "\n",
    "# display the widget and debugging information\n",
    "feedback_program.debugging_display()"
   ]
  },
  {
   "cell_type": "code",
   "execution_count": 6,
   "metadata": {},
   "outputs": [],
   "source": [
    "feedback_program.run()"
   ]
  },
  {
   "cell_type": "code",
   "execution_count": 7,
   "metadata": {},
   "outputs": [
    {
     "data": {
      "text/plain": [
       "array([[ -1212845.75 ,  -1214075.75 ,  -1215305.75 , ...,  -1246055.75 ,\n",
       "         -1247285.625,  -1248515.75 ],\n",
       "       [ -3043070.5  ,  -3046800.75 ,  -3050530.75 , ...,  -3143780.75 ,\n",
       "         -3147511.   ,  -3151240.75 ],\n",
       "       [ -4873296.   ,  -4879525.5  ,  -4885755.5  , ...,  -5041505.5  ,\n",
       "         -5047736.   ,  -5053966.   ],\n",
       "       ...,\n",
       "       [-68931168.   , -69024904.   , -69118632.   , ..., -71461880.   ,\n",
       "        -71555624.   , -71649344.   ],\n",
       "       [-70761400.   , -70857624.   , -70953872.   , ..., -73359608.   ,\n",
       "        -73455840.   , -73552064.   ],\n",
       "       [-72591624.   , -72690344.   , -72789064.   , ..., -75257336.   ,\n",
       "        -75356056.   , -75454792.   ]])"
      ]
     },
     "execution_count": 7,
     "metadata": {},
     "output_type": "execute_result"
    }
   ],
   "source": [
    "fb = feedback_program.get_feedback(\"dot_product\")\n",
    "feedback_product = np.array(fb).reshape((n, k))\n",
    "feedback_product"
   ]
  },
  {
   "cell_type": "code",
   "execution_count": 8,
   "metadata": {},
   "outputs": [
    {
     "data": {
      "text/plain": [
       "True"
      ]
     },
     "execution_count": 8,
     "metadata": {},
     "output_type": "execute_result"
    }
   ],
   "source": [
    "np.allclose(feedback_product, np_product)"
   ]
  },
  {
   "cell_type": "code",
   "execution_count": null,
   "metadata": {},
   "outputs": [],
   "source": [
    "%time x = feedback_program.get_feedback(\"dot_product\")"
   ]
  },
  {
   "cell_type": "code",
   "execution_count": null,
   "metadata": {},
   "outputs": [],
   "source": [
    "# %prun x = feedback_program.get_feedback(\"dot_product\")"
   ]
  },
  {
   "cell_type": "code",
   "execution_count": null,
   "metadata": {},
   "outputs": [],
   "source": []
  }
 ],
 "metadata": {
  "kernelspec": {
   "display_name": "Python 3",
   "language": "python",
   "name": "python3"
  },
  "language_info": {
   "codemirror_mode": {
    "name": "ipython",
    "version": 3
   },
   "file_extension": ".py",
   "mimetype": "text/x-python",
   "name": "python",
   "nbconvert_exporter": "python",
   "pygments_lexer": "ipython3",
   "version": "3.6.8"
  }
 },
 "nbformat": 4,
 "nbformat_minor": 4
}
