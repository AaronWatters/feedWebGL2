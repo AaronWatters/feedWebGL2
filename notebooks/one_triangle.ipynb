{
 "cells": [
  {
   "cell_type": "markdown",
   "metadata": {},
   "source": [
    "Adapted from https://www.tutorialspoint.com/webgl/webgl_sample_application.htm"
   ]
  },
  {
   "cell_type": "code",
   "execution_count": null,
   "metadata": {},
   "outputs": [],
   "source": [
    "import feedWebGL2.feedback as fd\n",
    "from ipywidgets import interact, interactive, fixed, interact_manual\n",
    "fd.widen_notebook()"
   ]
  },
  {
   "cell_type": "code",
   "execution_count": null,
   "metadata": {},
   "outputs": [],
   "source": [
    "vertices = [-0.5, 0.5, -0.5, -0.5, 0.0, -0.5,];\n",
    "\n",
    "def move_corner(x=-0.5):\n",
    "    new_vertices = vertices[:]\n",
    "    new_vertices[0] = x\n",
    "    feedback_program.change_buffer(\"coordinates_buffer\", new_vertices)\n",
    "    feedback_program.run()\n",
    "\n",
    "vertex_shader = \"\"\"#version 300 es\n",
    "    in vec2 coordinates;\n",
    "    out vec3 output_vertex;\n",
    "\n",
    "    void main() {\n",
    "        gl_Position = vec4(coordinates, 0.0, 1.0);\n",
    "        output_vertex = gl_Position.xyz;\n",
    "    }\n",
    "\"\"\"\n",
    "\n",
    "fragment_shader = \"\"\"#version 300 es\n",
    "    // For some reason it is required to specify precision, otherwise error.\n",
    "    precision highp float;\n",
    "    out vec4 color;\n",
    "\n",
    "    void main() {\n",
    "        color = vec4(1.0, 0.0, 0.0, 1.0);\n",
    "    }\n",
    "\"\"\"\n",
    "\n",
    "feedback_program = fd.FeedbackProgram(\n",
    "    program = fd.Program(\n",
    "        vertex_shader = vertex_shader,\n",
    "        fragment_shader = fragment_shader,\n",
    "        feedbacks = fd.Feedbacks(\n",
    "            output_vertex = fd.Feedback(num_components=3),\n",
    "        ),\n",
    "    ),\n",
    "    runner = fd.Runner(\n",
    "        vertices_per_instance = 3,\n",
    "        run_type = \"TRIANGLES\",\n",
    "        inputs = fd.Inputs(\n",
    "            coordinates = fd.Input(\n",
    "                num_components = 2,\n",
    "                from_buffer = fd.BufferLocation(\n",
    "                    name = \"coordinates_buffer\", # start at the beginning, don't skip any values...\n",
    "                )\n",
    "            ),\n",
    "        ),\n",
    "    ),\n",
    "    context = fd.Context(\n",
    "        buffers = fd.Buffers(\n",
    "            coordinates_buffer = fd.Buffer(\n",
    "                array=vertices,\n",
    "            ),\n",
    "        ),\n",
    "        width = 600,\n",
    "        show = True,\n",
    "    ),\n",
    ")\n",
    "\n",
    "# display the widget and debugging information\n",
    "#feedback_program.debugging_display()\n",
    "feedback_program"
   ]
  },
  {
   "cell_type": "code",
   "execution_count": null,
   "metadata": {},
   "outputs": [],
   "source": [
    "#feedback_program.run()\n",
    "interact(move_corner, x=(-1.0, 1.0))"
   ]
  },
  {
   "cell_type": "code",
   "execution_count": null,
   "metadata": {},
   "outputs": [],
   "source": [
    "move_corner(x=-0.1)"
   ]
  },
  {
   "cell_type": "code",
   "execution_count": null,
   "metadata": {},
   "outputs": [],
   "source": [
    "feedback_program.get_feedback(\"output_vertex\")"
   ]
  },
  {
   "cell_type": "code",
   "execution_count": null,
   "metadata": {},
   "outputs": [],
   "source": [
    "#import time\n",
    "def ttest():\n",
    "    for i in range(-100, 100):\n",
    "        move_corner(i/100.0)\n",
    "        #time.sleep(0.01)\n",
    "        #print(i)\n",
    "ttest()"
   ]
  },
  {
   "cell_type": "code",
   "execution_count": null,
   "metadata": {},
   "outputs": [],
   "source": []
  },
  {
   "cell_type": "code",
   "execution_count": null,
   "metadata": {},
   "outputs": [],
   "source": []
  }
 ],
 "metadata": {
  "kernelspec": {
   "display_name": "Python 3",
   "language": "python",
   "name": "python3"
  },
  "language_info": {
   "codemirror_mode": {
    "name": "ipython",
    "version": 3
   },
   "file_extension": ".py",
   "mimetype": "text/x-python",
   "name": "python",
   "nbconvert_exporter": "python",
   "pygments_lexer": "ipython3",
   "version": "3.6.8"
  }
 },
 "nbformat": 4,
 "nbformat_minor": 4
}
