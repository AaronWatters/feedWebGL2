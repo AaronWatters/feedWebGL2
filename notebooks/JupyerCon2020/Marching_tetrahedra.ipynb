{
 "cells": [
  {
   "cell_type": "markdown",
   "metadata": {},
   "source": [
    "# Marching tetrahedra:  Separating the vertices of a cube using interpolating triangles"
   ]
  },
  {
   "cell_type": "markdown",
   "metadata": {},
   "source": [
    "## Marching tetrahedra converts a 3d array of numbers like this:"
   ]
  },
  {
   "cell_type": "code",
   "execution_count": 2,
   "metadata": {},
   "outputs": [
    {
     "data": {
      "text/plain": [
       "(4, 3, 3)"
      ]
     },
     "execution_count": 2,
     "metadata": {},
     "output_type": "execute_result"
    }
   ],
   "source": [
    "import numpy as np\n",
    "A = np.array([\n",
    "    [\n",
    "        [0, 1, 0],\n",
    "        [0, 0, 0],\n",
    "        [0, 0, 0],\n",
    "    ],\n",
    "    [\n",
    "        [0, 0, 0],\n",
    "        [0, 1, 0],\n",
    "        [0, 0, 0],\n",
    "    ],\n",
    "    [\n",
    "        [0, 0, 0],\n",
    "        [0, 0, 0],\n",
    "        [0, 0, 0],\n",
    "    ],\n",
    "    [\n",
    "        [0, 0, 0],\n",
    "        [0, 0, 0],\n",
    "        [0, 0, 0],\n",
    "    ],\n",
    "])\n",
    "A.shape"
   ]
  },
  {
   "cell_type": "markdown",
   "metadata": {},
   "source": [
    "## Into a bunch of triangles defining an iso-surface like this:"
   ]
  },
  {
   "cell_type": "code",
   "execution_count": 3,
   "metadata": {},
   "outputs": [
    {
     "data": {
      "text/html": [
       "<style>.container { width:100% !important; }</style>"
      ],
      "text/plain": [
       "<IPython.core.display.HTML object>"
      ]
     },
     "metadata": {},
     "output_type": "display_data"
    },
    {
     "data": {
      "application/vnd.jupyter.widget-view+json": {
       "model_id": "a6fbdbc3c23244fb8cc0e157cec52426",
       "version_major": 2,
       "version_minor": 0
      },
      "text/plain": [
       "Volume32(status='deferring flush until render')"
      ]
     },
     "metadata": {},
     "output_type": "display_data"
    }
   ],
   "source": [
    "from feedWebGL2.volume import display_isosurface, widen_notebook\n",
    "widen_notebook()\n",
    "\n",
    "simple_diagram = display_isosurface(A, threshold=0.3, save=True)"
   ]
  },
  {
   "cell_type": "markdown",
   "metadata": {},
   "source": [
    "## There is a more complicated method which does not use tetrahedra: Marching cubes.\n",
    "\n",
    "## That method has too many branches for GPU implementation.\n",
    "\n",
    "## Branches are bad -- they make the processors wait and do nothing.\n",
    "\n",
    "\n",
    "# The method produces triangle vertices and triangle normal vectors as output (used for coloration)"
   ]
  },
  {
   "cell_type": "code",
   "execution_count": 4,
   "metadata": {},
   "outputs": [
    {
     "data": {
      "application/vnd.jupyter.widget-view+json": {
       "model_id": "5cca7a289b86418faa702f05e96254dc",
       "version_major": 2,
       "version_minor": 0
      },
      "text/plain": [
       "DualCanvasWidget(status='deferring flush until render')"
      ]
     },
     "metadata": {},
     "output_type": "display_data"
    }
   ],
   "source": [
    "simple_diagram.doodle_diagram(all_corners=False)"
   ]
  },
  {
   "cell_type": "markdown",
   "metadata": {},
   "source": [
    "\n",
    "## Instead of triangulating cubes directly we break the cube into 6 tetrahedra and triangulate the tetrahedra"
   ]
  },
  {
   "cell_type": "code",
   "execution_count": 5,
   "metadata": {},
   "outputs": [
    {
     "data": {
      "text/html": [
       "<style>.container { width:100% !important; }</style>"
      ],
      "text/plain": [
       "<IPython.core.display.HTML object>"
      ]
     },
     "metadata": {},
     "output_type": "display_data"
    },
    {
     "data": {
      "application/vnd.jupyter.widget-view+json": {
       "model_id": "88f7d23a907d4eba8a2b940a373b27f5",
       "version_major": 2,
       "version_minor": 0
      },
      "text/plain": [
       "DualCanvasWidget(status='deferring flush until render')"
      ]
     },
     "metadata": {},
     "output_type": "display_data"
    }
   ],
   "source": [
    "import feedback_diagrams\n",
    "\n",
    "feedback_diagrams.tetrahedral_tiling()"
   ]
  },
  {
   "cell_type": "markdown",
   "metadata": {},
   "source": [
    "## Then in each tetrahedron:\n",
    "\n",
    "## Separate vertices above the threshold from vertices below the threshold either use 2 triangles"
   ]
  },
  {
   "cell_type": "code",
   "execution_count": 6,
   "metadata": {},
   "outputs": [
    {
     "data": {
      "application/vnd.jupyter.widget-view+json": {
       "model_id": "bb59f36785984d84a04e75c970aa470f",
       "version_major": 2,
       "version_minor": 0
      },
      "text/plain": [
       "DualCanvasWidget(status='deferring flush until render')"
      ]
     },
     "metadata": {},
     "output_type": "display_data"
    }
   ],
   "source": [
    "feedback_diagrams.triangulated()"
   ]
  },
  {
   "cell_type": "markdown",
   "metadata": {},
   "source": [
    "## Or 1 triangle"
   ]
  },
  {
   "cell_type": "code",
   "execution_count": 7,
   "metadata": {},
   "outputs": [
    {
     "data": {
      "application/vnd.jupyter.widget-view+json": {
       "model_id": "f4b4c850f64f4b0f9762efa6cee85f23",
       "version_major": 2,
       "version_minor": 0
      },
      "text/plain": [
       "DualCanvasWidget(status='deferring flush until render')"
      ]
     },
     "metadata": {},
     "output_type": "display_data"
    }
   ],
   "source": [
    "feedback_diagrams.triangulated1()"
   ]
  },
  {
   "cell_type": "markdown",
   "metadata": {},
   "source": [
    "# In pseudo-Python the triangles are generated from crossing voxels like this:\n",
    "\n",
    "```Python\n",
    "\n",
    "# Per instance = voxel\n",
    "for corners in crossing_voxel_corners:  # in parallel\n",
    "    \n",
    "    # Per mesh = 6 tetrahedra with up to 2 triangles each\n",
    "    for tetrahedron in tetrahedra6(corners):   # parallelized using array indexing\n",
    "        for triangle in triangles2(tetrahedron):   # parallelized using array indexing\n",
    "            if triangle.is_valid():\n",
    "                yield triangle\n",
    "            else:\n",
    "                yield None  # yield degenerate triangle if not valid\n",
    "                # Every iteration must yield something on the GPU...\n",
    "```"
   ]
  },
  {
   "cell_type": "markdown",
   "metadata": {},
   "source": [
    "# The detailed implementation involves arcane use of array index lookups to avoid branching (branches are bad)\n",
    "\n",
    "# The high level pipeline looks like this:\n",
    "\n",
    "## -- Identify \"crossing voxels\" which cross the threshold and therefore have a peice of the isosurface\n",
    "## -- Divide the crossing voxels into 6 tetrahedra\n",
    "## -- Generate 0, 1, or 2 (non-degenerate) triangles from each tetrahedron\n",
    "## -- Pass the generated triangles and the triangle normal vectors to the next pipeline stage (usually in three.js)"
   ]
  },
  {
   "cell_type": "markdown",
   "metadata": {},
   "source": [
    "# Note it is possible to tile a voxel with just 5 tetrahedra\n",
    "\n",
    "## But it would make the algorithm more complex because the line segments don't line up on opposite sides"
   ]
  },
  {
   "cell_type": "code",
   "execution_count": 8,
   "metadata": {},
   "outputs": [
    {
     "data": {
      "application/vnd.jupyter.widget-view+json": {
       "model_id": "ea0a865d6a05469bb740881138b626ce",
       "version_major": 2,
       "version_minor": 0
      },
      "text/plain": [
       "DualCanvasWidget(status='deferring flush until render')"
      ]
     },
     "metadata": {},
     "output_type": "display_data"
    }
   ],
   "source": [
    "feedback_diagrams.alt_tiling()"
   ]
  },
  {
   "cell_type": "code",
   "execution_count": null,
   "metadata": {},
   "outputs": [],
   "source": []
  }
 ],
 "metadata": {
  "kernelspec": {
   "display_name": "Python 3",
   "language": "python",
   "name": "python3"
  },
  "language_info": {
   "codemirror_mode": {
    "name": "ipython",
    "version": 3
   },
   "file_extension": ".py",
   "mimetype": "text/x-python",
   "name": "python",
   "nbconvert_exporter": "python",
   "pygments_lexer": "ipython3",
   "version": "3.6.8"
  }
 },
 "nbformat": 4,
 "nbformat_minor": 4
}
