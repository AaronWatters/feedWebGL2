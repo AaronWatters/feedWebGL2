{
 "cells": [
  {
   "cell_type": "markdown",
   "metadata": {},
   "source": [
    "# WebGL feedback\n",
    "\n",
    "## My isosurface program generates plain old triangles\n",
    "\n",
    "## -- NOT Triangles which have been translated, rotated, scaled, distorted, and colorized\n",
    "\n",
    "## To transform plain triangles to fancy triangles we need to push them into the front of the standard pipeline (and maybe use a library like three.js)\n",
    "\n",
    "\n",
    "<img src=\"./rasterization1.png\">\n",
    "\n",
    "<a href=\"https://www.willusher.io/webgl/2019/01/13/volume-rendering-with-webgl\">\n",
    "    https://www.willusher.io/webgl/2019/01/13/volume-rendering-with-webgl</a>\n",
    "    \n",
    "## The WebGL2 Transform/Feedback mechanism allows us to \"put new processing stages\" like Isosurface generation in the front of the standard pipeline.\n",
    "\n",
    "<hr><hr>\n",
    "\n",
    "# WebGL2 Feedback:\n",
    "\n",
    "<h2>WebGL2Feedback allows an HTML5 application to capture outputs from vertex shaders.</h2>\n",
    "\n",
    "<h2>It can be used to implement special purpose processing pipelines, like isosurface rendering.</h2>\n",
    "\n",
    "<h2>For example \n",
    "\n",
    "# Pipeline Stage 1"
   ]
  },
  {
   "cell_type": "code",
   "execution_count": 1,
   "metadata": {},
   "outputs": [
    {
     "data": {
      "text/html": [
       "<style>.container { width:100% !important; }</style>"
      ],
      "text/plain": [
       "<IPython.core.display.HTML object>"
      ]
     },
     "metadata": {},
     "output_type": "display_data"
    },
    {
     "data": {
      "application/vnd.jupyter.widget-view+json": {
       "model_id": "df2e9819467048a5948a0d32708a50aa",
       "version_major": 2,
       "version_minor": 0
      },
      "text/plain": [
       "DualCanvasWidget(status='deferring flush until render')"
      ]
     },
     "metadata": {},
     "output_type": "display_data"
    }
   ],
   "source": [
    "import feedback_diagrams\n",
    "feedback_diagrams.stage1()"
   ]
  },
  {
   "cell_type": "markdown",
   "metadata": {},
   "source": [
    "## Output from the first stage can be then feed back into the next stage"
   ]
  },
  {
   "cell_type": "code",
   "execution_count": 2,
   "metadata": {},
   "outputs": [
    {
     "data": {
      "application/vnd.jupyter.widget-view+json": {
       "model_id": "e9c0bdeb298d4720b3c0a25ef7d9607e",
       "version_major": 2,
       "version_minor": 0
      },
      "text/plain": [
       "DualCanvasWidget(status='deferring flush until render')"
      ]
     },
     "metadata": {},
     "output_type": "display_data"
    }
   ],
   "source": [
    "import feedback_diagrams\n",
    "feedback_diagrams.stage2()"
   ]
  },
  {
   "cell_type": "markdown",
   "metadata": {},
   "source": [
    "# This can go on for many stages\n",
    "\n",
    "# A stage can even get feedbacks from an earlier run of itself (hence the name)\n",
    "\n",
    "## For particle system simulations or force directed graph relaxation....\n",
    "\n",
    "<img src=\"https://media0.giphy.com/media/2bVYAlQiD7TPwDg1Yb/200w.webp?cid=ecf05e47b59a142f56d4c42acb2dfc061e31737fa3965971&rid=200w.webp\"/>\n",
    "\n",
    "<hr>\n",
    "<hr>\n",
    "<hr>\n",
    "\n",
    "# WebGL2 Feedback (and WebGL2 generally) is difficult to program directly\n",
    "\n",
    "## Low level state machine/device driver interface with a lot of state to manage.\n",
    "\n",
    "## Lots of setting up pointers and parameters and tearing them down later...\n",
    "\n",
    "## Here is the \"run\" method from the feedWebGL wrapper which does a lot of standard things in a standard order:\n",
    "\n",
    "```Javascript\n",
    "\n",
    "            run() {\n",
    "                this.check_input_bindings();\n",
    "                var program = this.program;\n",
    "                var gl = program.context.gl;\n",
    "                gl.useProgram(program.gl_program);\n",
    "                if (!this.allocated_feedbacks) {\n",
    "                    this.allocate_feedback_buffers();\n",
    "                } else {\n",
    "                    this.bind_feedbacks();\n",
    "                }\n",
    "                if (!this.uniforms_installed) {\n",
    "                    this.install_uniforms();\n",
    "                }\n",
    "                this.bind_samplers();\n",
    "                var mode_name = this.settings.run_type || \"POINTS\";\n",
    "                var mode = gl[mode_name];\n",
    "                var rasterize = this.settings.rasterize;\n",
    "                if (!rasterize) {\n",
    "                    gl.enable(gl.RASTERIZER_DISCARD);\n",
    "                }\n",
    "                gl.beginTransformFeedback(mode);\n",
    "                var vertices_per_instance = this.vertices_per_instance;\n",
    "                var num_instances = this.num_instances;\n",
    "                if ((num_instances) && (num_instances > 1)) {\n",
    "                    gl.drawArraysInstanced(mode, 0, vertices_per_instance, num_instances);\n",
    "                } else {\n",
    "                    gl.drawArrays(mode, 0, vertices_per_instance);\n",
    "                }\n",
    "                gl.endTransformFeedback();\n",
    "                if (!rasterize) {\n",
    "                    gl.disable(gl.RASTERIZER_DISCARD);\n",
    "                }\n",
    "                gl.bindTransformFeedback(gl.TRANSFORM_FEEDBACK, null);\n",
    "                this.run_count += 1;  // mainly for debug and test.\n",
    "            };\n",
    "```\n",
    "\n",
    "# *The feedWebGL wrapper API*\n",
    "\n",
    "## The feedWebGL.js module creates a declarative higher level object hierarchy encapsulating the underlying structures\n",
    "\n",
    "## Each major concept in the Feedback mechanism is associated with an object implementations.\n",
    "## Operation sequences are encapsulated as methods of the most appropriate object.\n",
    "## The API attempts to directly reflect the underlying Feedback paradigm (without higher level abstractions -- it's not another D3.js)."
   ]
  },
  {
   "cell_type": "code",
   "execution_count": 3,
   "metadata": {},
   "outputs": [
    {
     "data": {
      "application/vnd.jupyter.widget-view+json": {
       "model_id": "ec5656adab5140988cca9edfe28d1bd0",
       "version_major": 2,
       "version_minor": 0
      },
      "text/plain": [
       "DualCanvasWidget(status='deferring flush until render')"
      ]
     },
     "metadata": {},
     "output_type": "display_data"
    }
   ],
   "source": [
    "feedback_diagrams.feedback_objects()"
   ]
  },
  {
   "cell_type": "markdown",
   "metadata": {},
   "source": [
    "# Let's look at a trivial example..."
   ]
  },
  {
   "cell_type": "code",
   "execution_count": null,
   "metadata": {},
   "outputs": [],
   "source": []
  }
 ],
 "metadata": {
  "kernelspec": {
   "display_name": "Python 3",
   "language": "python",
   "name": "python3"
  },
  "language_info": {
   "codemirror_mode": {
    "name": "ipython",
    "version": 3
   },
   "file_extension": ".py",
   "mimetype": "text/x-python",
   "name": "python",
   "nbconvert_exporter": "python",
   "pygments_lexer": "ipython3",
   "version": "3.6.8"
  }
 },
 "nbformat": 4,
 "nbformat_minor": 4
}
