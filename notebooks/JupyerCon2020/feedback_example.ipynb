{
 "cells": [
  {
   "cell_type": "markdown",
   "metadata": {},
   "source": [
    "# Running a (trivial/fake) WebGL feedback program from Jupyter and getting the output back\n",
    "\n",
    "The following specification creates a feedback program that runs through WebGL on the GPU to translate any number of\n",
    "three dimensional vectors by a constant vector in parallel.\n",
    "\n",
    "This is a trivial and artificial example to illustrate the API.  Real examples include many more inputs and outputs\n",
    "and more complex computations."
   ]
  },
  {
   "cell_type": "code",
   "execution_count": 1,
   "metadata": {},
   "outputs": [
    {
     "data": {
      "text/html": [
       "<style>.container { width:100% !important; }</style>"
      ],
      "text/plain": [
       "<IPython.core.display.HTML object>"
      ]
     },
     "metadata": {},
     "output_type": "display_data"
    },
    {
     "data": {
      "application/vnd.jupyter.widget-view+json": {
       "model_id": "35e0c8b6b56141a69d9ad86d69f80846",
       "version_major": 2,
       "version_minor": 0
      },
      "text/plain": [
       "DualCanvasWidget(status='deferring flush until render')"
      ]
     },
     "metadata": {},
     "output_type": "display_data"
    }
   ],
   "source": [
    "import feedback_diagrams\n",
    "feedback_diagrams.trivial_pipeline()"
   ]
  },
  {
   "cell_type": "markdown",
   "metadata": {},
   "source": [
    "# Linking Python data to GLSL variables\n",
    "\n",
    "### Most of the code for a feedWebGL2 program describes the GLSL variables and declaratively linke the variables to data sources\n",
    "\n",
    "<img src=\"data_flow.png\" width=\"1000\">"
   ]
  },
  {
   "cell_type": "code",
   "execution_count": 2,
   "metadata": {},
   "outputs": [
    {
     "data": {
      "text/html": [
       "<style>.container { width:100% !important; }</style>"
      ],
      "text/plain": [
       "<IPython.core.display.HTML object>"
      ]
     },
     "metadata": {},
     "output_type": "display_data"
    }
   ],
   "source": [
    "import feedWebGL2.feedback as fd\n",
    "fd.widen_notebook()"
   ]
  },
  {
   "cell_type": "code",
   "execution_count": 3,
   "metadata": {},
   "outputs": [
    {
     "data": {
      "application/vnd.jupyter.widget-view+json": {
       "model_id": "92e289087aa44be9aee46296dc8fc2af",
       "version_major": 2,
       "version_minor": 0
      },
      "text/plain": [
       "VBox(children=(FeedbackProgram(status='deferring flush until render'), Text(value='deferring flush until rende…"
      ]
     },
     "metadata": {},
     "output_type": "display_data"
    }
   ],
   "source": [
    "shader_GLSL_code = \"\"\"#version 300 es\n",
    "\n",
    "// Shift all input_vectors by a single shared shift_vector.\n",
    "// This shader program runs in parallel for all input vectors.\n",
    "\n",
    "// Input vertices bind to this variable in parallel.\n",
    "in vec3 input_vertex;\n",
    "\n",
    "// vector shift value shared across all processing,\n",
    "uniform vec3 shift_vector;\n",
    "\n",
    "// feedback: output shifted vertex\n",
    "out vec3 output_vertex;\n",
    "\n",
    "void main() {\n",
    "    output_vertex = input_vertex + shift_vector;\n",
    "}\n",
    "\"\"\"\n",
    "\n",
    "feedback_program = fd.FeedbackProgram(\n",
    "    program = fd.Program(\n",
    "        vertex_shader = shader_GLSL_code,\n",
    "        feedbacks = fd.Feedbacks(\n",
    "            output_vertex = fd.Feedback(num_components=3),\n",
    "        ),\n",
    "    ),\n",
    "    runner = fd.Runner(\n",
    "        vertices_per_instance = 3, # the number of vectors to process\n",
    "        uniforms = fd.Uniforms(\n",
    "            shift_vector = fd.Uniform(default_value = [-1, 0, 1]) #\n",
    "        ),\n",
    "        inputs = fd.Inputs(\n",
    "            input_vertex = fd.Input(  # Bind input_vertices buffer vectors to input_vertex variable\n",
    "                num_components = 3,\n",
    "                from_buffer = fd.BufferLocation(\n",
    "                    name = \"input_vertices\", # start at the beginning, don't skip any values...\n",
    "                )\n",
    "            ),\n",
    "        ),\n",
    "    ),\n",
    "    context = fd.Context(\n",
    "        buffers = fd.Buffers(\n",
    "            input_vertices = fd.Buffer(\n",
    "                vectors = [\n",
    "                    [1, 2, 3],  # values bound to input_vertex above in parallel\n",
    "                    [2, 3, 4],\n",
    "                    [3, 4, 5],\n",
    "                ]\n",
    ",\n",
    "            ),\n",
    "        ),\n",
    "    ),\n",
    ")\n",
    "\n",
    "# display the widget and debugging information\n",
    "feedback_program.debugging_display()"
   ]
  },
  {
   "cell_type": "code",
   "execution_count": 4,
   "metadata": {},
   "outputs": [],
   "source": [
    "feedback_program.run()"
   ]
  },
  {
   "cell_type": "code",
   "execution_count": 5,
   "metadata": {},
   "outputs": [
    {
     "data": {
      "text/plain": [
       "[[0, 2, 4], [1, 3, 5], [2, 4, 6]]"
      ]
     },
     "execution_count": 5,
     "metadata": {},
     "output_type": "execute_result"
    }
   ],
   "source": [
    "feedback_program.get_feedback(\"output_vertex\")"
   ]
  },
  {
   "cell_type": "markdown",
   "metadata": {},
   "source": [
    "## Change the shift vector to [300, 200, 100] and run the program again with the same input vectors"
   ]
  },
  {
   "cell_type": "code",
   "execution_count": 6,
   "metadata": {},
   "outputs": [
    {
     "data": {
      "text/plain": [
       "[[301, 202, 103], [302, 203, 104], [303, 204, 105]]"
      ]
     },
     "execution_count": 6,
     "metadata": {},
     "output_type": "execute_result"
    }
   ],
   "source": [
    "feedback_program.change_uniform_vector(\"shift_vector\", [300, 200, 100])\n",
    "\n",
    "feedback_program.run()\n",
    "feedback_program.get_feedback(\"output_vertex\")"
   ]
  },
  {
   "cell_type": "markdown",
   "metadata": {},
   "source": [
    "\n",
    "\n",
    "# Real runs would transform millions of vectors.\n",
    "# Real programs would do more complex computations."
   ]
  },
  {
   "cell_type": "code",
   "execution_count": null,
   "metadata": {},
   "outputs": [],
   "source": []
  }
 ],
 "metadata": {
  "kernelspec": {
   "display_name": "Python 3",
   "language": "python",
   "name": "python3"
  },
  "language_info": {
   "codemirror_mode": {
    "name": "ipython",
    "version": 3
   },
   "file_extension": ".py",
   "mimetype": "text/x-python",
   "name": "python",
   "nbconvert_exporter": "python",
   "pygments_lexer": "ipython3",
   "version": "3.6.8"
  }
 },
 "nbformat": 4,
 "nbformat_minor": 4
}
