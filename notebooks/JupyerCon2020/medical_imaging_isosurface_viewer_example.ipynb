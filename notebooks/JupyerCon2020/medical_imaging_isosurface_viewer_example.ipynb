{
 "cells": [
  {
   "cell_type": "markdown",
   "metadata": {},
   "source": [
    "\n",
    "# The WebGL2/Feedback mechanism is used in the implementation of the iso-surface widget\n",
    "\n",
    "<img src=\"torso.png\" width=\"800\"/>\n",
    "\n",
    "\n",
    "# How to visualize a 3d matrix using the iso-surface widget\n",
    "\n",
    "First you need a 3d matrix.  Let's read a matrix from a binary format which was derived\n",
    "from MRI imaging:"
   ]
  },
  {
   "cell_type": "code",
   "execution_count": 1,
   "metadata": {},
   "outputs": [
    {
     "data": {
      "text/plain": [
       "(128, 108, 128)"
      ]
     },
     "execution_count": 1,
     "metadata": {},
     "output_type": "execute_result"
    }
   ],
   "source": [
    "import numpy as np\n",
    "f = open(\"mri.npy\", \"rb\")\n",
    "Matrix = np.load(f)\n",
    "\n",
    "Matrix.shape"
   ]
  },
  {
   "cell_type": "markdown",
   "metadata": {},
   "source": [
    "# Create a volume widget and then load the matrix:"
   ]
  },
  {
   "cell_type": "code",
   "execution_count": 2,
   "metadata": {},
   "outputs": [
    {
     "data": {
      "text/html": [
       "<style>.container { width:100% !important; }</style>"
      ],
      "text/plain": [
       "<IPython.core.display.HTML object>"
      ]
     },
     "metadata": {},
     "output_type": "display_data"
    },
    {
     "data": {
      "application/vnd.jupyter.widget-view+json": {
       "model_id": "dee0eb8a5b2d49d7960691d3681fbcc9",
       "version_major": 2,
       "version_minor": 0
      },
      "text/plain": [
       "Volume32(status='deferring flush until render')"
      ]
     },
     "metadata": {},
     "output_type": "display_data"
    }
   ],
   "source": [
    "from feedWebGL2 import volume\n",
    "volume.widen_notebook()\n",
    "\n",
    "W = volume.Volume32()\n",
    "\n",
    "W"
   ]
  },
  {
   "cell_type": "code",
   "execution_count": 3,
   "metadata": {},
   "outputs": [],
   "source": [
    "W.load_3d_numpy_array(Matrix, threshold=33000)\n",
    "W.build(width=1600)"
   ]
  },
  {
   "cell_type": "code",
   "execution_count": null,
   "metadata": {},
   "outputs": [],
   "source": []
  }
 ],
 "metadata": {
  "kernelspec": {
   "display_name": "Python 3",
   "language": "python",
   "name": "python3"
  },
  "language_info": {
   "codemirror_mode": {
    "name": "ipython",
    "version": 3
   },
   "file_extension": ".py",
   "mimetype": "text/x-python",
   "name": "python",
   "nbconvert_exporter": "python",
   "pygments_lexer": "ipython3",
   "version": "3.6.8"
  }
 },
 "nbformat": 4,
 "nbformat_minor": 4
}
