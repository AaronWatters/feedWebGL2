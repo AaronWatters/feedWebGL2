{
 "cells": [
  {
   "cell_type": "markdown",
   "metadata": {},
   "source": [
    "# The Isosurface Feedback pipeline\n",
    "\n",
    "## Illustrate the steps for generating isosurface triangles using this trivial example array:"
   ]
  },
  {
   "cell_type": "code",
   "execution_count": 1,
   "metadata": {},
   "outputs": [
    {
     "data": {
      "text/plain": [
       "(4, 3, 3)"
      ]
     },
     "execution_count": 1,
     "metadata": {},
     "output_type": "execute_result"
    }
   ],
   "source": [
    "import numpy as np\n",
    "A = np.array([\n",
    "    [\n",
    "        [0, 1, 0],\n",
    "        [0, 0, 0],\n",
    "        [0, 0, 0],\n",
    "    ],\n",
    "    [\n",
    "        [0, 0, 0],\n",
    "        [0, 1, 0],\n",
    "        [0, 0, 0],\n",
    "    ],\n",
    "    [\n",
    "        [0, 0, 0],\n",
    "        [0, 0, 0],\n",
    "        [0, 0, 0],\n",
    "    ],\n",
    "    [\n",
    "        [0, 0, 0],\n",
    "        [0, 0, 0],\n",
    "        [0, 0, 0],\n",
    "    ],\n",
    "])\n",
    "A.shape"
   ]
  },
  {
   "cell_type": "code",
   "execution_count": 2,
   "metadata": {},
   "outputs": [
    {
     "data": {
      "text/html": [
       "<style>.container { width:100% !important; }</style>"
      ],
      "text/plain": [
       "<IPython.core.display.HTML object>"
      ]
     },
     "metadata": {},
     "output_type": "display_data"
    },
    {
     "data": {
      "application/vnd.jupyter.widget-view+json": {
       "model_id": "264b6b9b1d3f4a9ca87354ea58a6db1e",
       "version_major": 2,
       "version_minor": 0
      },
      "text/plain": [
       "Volume32(status='deferring flush until render')"
      ]
     },
     "metadata": {},
     "output_type": "display_data"
    }
   ],
   "source": [
    "from feedWebGL2.volume import display_isosurface, widen_notebook\n",
    "widen_notebook()\n",
    "\n",
    "simple_diagram = display_isosurface(A, threshold=0.3, save=True)"
   ]
  },
  {
   "cell_type": "markdown",
   "metadata": {},
   "source": [
    "# We need to break down steps for finding the triangles and normal vectors"
   ]
  },
  {
   "cell_type": "code",
   "execution_count": 3,
   "metadata": {},
   "outputs": [
    {
     "data": {
      "application/vnd.jupyter.widget-view+json": {
       "model_id": "1e4751d4c58d4bed8489aad43bdb33ed",
       "version_major": 2,
       "version_minor": 0
      },
      "text/plain": [
       "DualCanvasWidget(status='deferring flush until render')"
      ]
     },
     "metadata": {},
     "output_type": "display_data"
    }
   ],
   "source": [
    "simple_diagram.doodle_diagram()"
   ]
  },
  {
   "cell_type": "markdown",
   "metadata": {},
   "source": [
    "<hr><hr>\n",
    "\n",
    "# Step 1: On the GPU identify the \"crossing voxel\" lower back left corners"
   ]
  },
  {
   "cell_type": "code",
   "execution_count": 4,
   "metadata": {},
   "outputs": [
    {
     "data": {
      "text/html": [
       "<style>.container { width:100% !important; }</style>"
      ],
      "text/plain": [
       "<IPython.core.display.HTML object>"
      ]
     },
     "metadata": {},
     "output_type": "display_data"
    },
    {
     "data": {
      "application/vnd.jupyter.widget-view+json": {
       "model_id": "e3cde628a4314fe79272d14e3fa38216",
       "version_major": 2,
       "version_minor": 0
      },
      "text/plain": [
       "DualCanvasWidget(status='deferring flush until render')"
      ]
     },
     "metadata": {},
     "output_type": "display_data"
    }
   ],
   "source": [
    "import feedback_diagrams\n",
    "feedback_diagrams.crossing_voxels()"
   ]
  },
  {
   "cell_type": "markdown",
   "metadata": {},
   "source": [
    "## Below the least corners of the crossing voxels are filled -- the other voxels do not cross the threshold."
   ]
  },
  {
   "cell_type": "code",
   "execution_count": 5,
   "metadata": {},
   "outputs": [
    {
     "data": {
      "application/vnd.jupyter.widget-view+json": {
       "model_id": "8c787d356f0842f7ad05f1b69a9f6423",
       "version_major": 2,
       "version_minor": 0
      },
      "text/plain": [
       "DualCanvasWidget(status='deferring flush until render')"
      ]
     },
     "metadata": {},
     "output_type": "display_data"
    }
   ],
   "source": [
    "simple_diagram.doodle_diagram(triangles=False)"
   ]
  },
  {
   "cell_type": "markdown",
   "metadata": {},
   "source": [
    "<hr><hr>\n",
    "\n",
    "# Step 2: In Javascript eliminate all the non-crossing voxels\n",
    "\n",
    "## Compression/compaction implemented in a very tight Javascript loop."
   ]
  },
  {
   "cell_type": "code",
   "execution_count": 6,
   "metadata": {},
   "outputs": [
    {
     "data": {
      "application/vnd.jupyter.widget-view+json": {
       "model_id": "ef2a222b2e0349d8b98690526ef19619",
       "version_major": 2,
       "version_minor": 0
      },
      "text/plain": [
       "DualCanvasWidget(status='deferring flush until render')"
      ]
     },
     "metadata": {},
     "output_type": "display_data"
    }
   ],
   "source": [
    "simple_diagram.doodle_diagram(triangles=False, all_corners=False)"
   ]
  },
  {
   "cell_type": "markdown",
   "metadata": {},
   "source": [
    "### The library API pre-allocates buffers for crossing voxels and the caller must specify the expected \"shrink factor\" -- the proportion of voxels are expected to be kept.\n",
    "### If the shrink factor is set too low some crossing voxels will be discarded.\n",
    "### If the shrink factor is too high the visualization may be non-performant or may even crash (because every crossing voxel expands to 36 triangle vertices -- many degenerate).\n",
    "\n",
    "<hr><hr>\n",
    "\n",
    "# Step 3: On the GPU Convert the crossing voxels into isosurface triangles\n",
    "\n",
    "## This is the fun part: Marching Tetrahedra"
   ]
  },
  {
   "cell_type": "code",
   "execution_count": 7,
   "metadata": {},
   "outputs": [
    {
     "data": {
      "application/vnd.jupyter.widget-view+json": {
       "model_id": "ee142c26c3c2493c82278acca2c513fd",
       "version_major": 2,
       "version_minor": 0
      },
      "text/plain": [
       "DualCanvasWidget(status='deferring flush until render')"
      ]
     },
     "metadata": {},
     "output_type": "display_data"
    }
   ],
   "source": [
    "feedback_diagrams.triangulation()"
   ]
  },
  {
   "cell_type": "code",
   "execution_count": 8,
   "metadata": {},
   "outputs": [
    {
     "data": {
      "application/vnd.jupyter.widget-view+json": {
       "model_id": "068ee7b90c214475bda9a4307d200e95",
       "version_major": 2,
       "version_minor": 0
      },
      "text/plain": [
       "DualCanvasWidget(status='deferring flush until render')"
      ]
     },
     "metadata": {},
     "output_type": "display_data"
    }
   ],
   "source": [
    "simple_diagram.doodle_diagram(all_corners=False)"
   ]
  },
  {
   "cell_type": "markdown",
   "metadata": {},
   "source": [
    "# Step 3.5: (0ptional) Remove degenerate triangles and normals in a tight Javascript loop.\n",
    "\n",
    "<hr><hr>\n",
    "\n",
    "# Step 4+: Send the triangles and normals to three.js or elsewhere for rendering"
   ]
  },
  {
   "cell_type": "code",
   "execution_count": null,
   "metadata": {},
   "outputs": [],
   "source": [
    "simple_diagram.doodle_diagram(corners=False)"
   ]
  },
  {
   "cell_type": "markdown",
   "metadata": {},
   "source": [
    "\n",
    "<img src=\"./rasterization2.png\">\n",
    "\n",
    "<a href=\"https://www.willusher.io/webgl/2019/01/13/volume-rendering-with-webgl\">\n",
    "    https://www.willusher.io/webgl/2019/01/13/volume-rendering-with-webgl</a>\n",
    "    \n",
    "<hr><hr>\n",
    "\n",
    "# Nuances not mentioned, but implemented\n",
    "\n",
    "## The black-hole radiation visualization required special consideration for blocked data and polar coordinates\n",
    "\n",
    "## The visual appearance can be improved by averaging normal vectors for adjacent triangles"
   ]
  },
  {
   "cell_type": "code",
   "execution_count": null,
   "metadata": {},
   "outputs": [],
   "source": []
  }
 ],
 "metadata": {
  "kernelspec": {
   "display_name": "Python 3",
   "language": "python",
   "name": "python3"
  },
  "language_info": {
   "codemirror_mode": {
    "name": "ipython",
    "version": 3
   },
   "file_extension": ".py",
   "mimetype": "text/x-python",
   "name": "python",
   "nbconvert_exporter": "python",
   "pygments_lexer": "ipython3",
   "version": "3.6.8"
  }
 },
 "nbformat": 4,
 "nbformat_minor": 4
}
