{
 "cells": [
  {
   "cell_type": "markdown",
   "metadata": {},
   "source": [
    "# Isosurface widget architecture\n",
    "\n",
    "## The isosurface widget displays an interactive visual representation of a 3 dimensional matrix.\n",
    "\n",
    "## It is built from a number of software components.\n",
    "\n",
    "## The relationships between some of those components are illustrated below in a dependancy diagram."
   ]
  },
  {
   "cell_type": "code",
   "execution_count": 1,
   "metadata": {},
   "outputs": [],
   "source": [
    "# Create an example matrix -- \"distance to the center\"\n",
    "\n",
    "import numpy as np\n",
    "\n",
    "N = 15\n",
    "H = N/2\n",
    "\n",
    "A = np.zeros((N,N,N), dtype=np.float)\n",
    "\n",
    "for x in range(N):\n",
    "    for y in range(N):\n",
    "        for z in range(N):\n",
    "            A[x,y,z] = np.sqrt((x-H)**2 + (y-H)**2 + (z-H) ** 2)\n",
    "\n",
    "from feedWebGL2 import volume"
   ]
  },
  {
   "cell_type": "code",
   "execution_count": 2,
   "metadata": {},
   "outputs": [
    {
     "data": {
      "text/html": [
       "<style>.container { width:100% !important; }</style>"
      ],
      "text/plain": [
       "<IPython.core.display.HTML object>"
      ]
     },
     "metadata": {},
     "output_type": "display_data"
    },
    {
     "data": {
      "application/vnd.jupyter.widget-view+json": {
       "model_id": "d52d8e3e19b442c7996b0e9b475e65a0",
       "version_major": 2,
       "version_minor": 0
      },
      "text/plain": [
       "Volume32(status='deferring flush until render')"
      ]
     },
     "metadata": {},
     "output_type": "display_data"
    }
   ],
   "source": [
    "# Display an example isosurface widget -- generates spheres in this case.\n",
    "volume.widen_notebook()\n",
    "\n",
    "W = volume.Volume32()\n",
    "\n",
    "W"
   ]
  },
  {
   "cell_type": "code",
   "execution_count": 3,
   "metadata": {},
   "outputs": [],
   "source": [
    "W.load_3d_numpy_array(A, shrink_factor=0.9, threshold=H)\n",
    "W.build(1500)"
   ]
  },
  {
   "cell_type": "markdown",
   "metadata": {},
   "source": [
    "# Some components\n",
    "\n",
    "<img src=\"software_architecture1.png\" width=\"1000\"/>"
   ]
  },
  {
   "cell_type": "code",
   "execution_count": null,
   "metadata": {},
   "outputs": [],
   "source": []
  }
 ],
 "metadata": {
  "kernelspec": {
   "display_name": "Python 3",
   "language": "python",
   "name": "python3"
  },
  "language_info": {
   "codemirror_mode": {
    "name": "ipython",
    "version": 3
   },
   "file_extension": ".py",
   "mimetype": "text/x-python",
   "name": "python",
   "nbconvert_exporter": "python",
   "pygments_lexer": "ipython3",
   "version": "3.6.8"
  }
 },
 "nbformat": 4,
 "nbformat_minor": 4
}
