{
 "cells": [
  {
   "cell_type": "markdown",
   "metadata": {},
   "source": [
    "# How to visualize a vector field\n",
    "\n",
    "This notebook demonstrates some features of `feedWebGL2` for visualizing vector fields.\n",
    "\n",
    "A vector field is characterized by 3 dense arrays of floating point values representing\n",
    "the (x, y, z) components of direction vectors at each (i, j, k) index of the arrays.\n",
    "In real applications these arrays would be derived from remote sensing of some sort of\n",
    "scientific simulation.\n",
    "\n",
    "In this demonstration, for simplicity, we invent some arrays with no motivation physical intuition\n",
    "behind them"
   ]
  },
  {
   "cell_type": "code",
   "execution_count": null,
   "metadata": {},
   "outputs": [],
   "source": [
    "import numpy as np"
   ]
  },
  {
   "cell_type": "code",
   "execution_count": null,
   "metadata": {},
   "outputs": [],
   "source": [
    "array_size = 300\n",
    "x_values = np.linspace(0, 2.0, array_size)\n",
    "y_values = np.linspace(0, 2.0, array_size)\n",
    "z_values = np.linspace(0, 2.0, array_size)"
   ]
  },
  {
   "cell_type": "code",
   "execution_count": null,
   "metadata": {},
   "outputs": [],
   "source": [
    "# make X Y and Z matrices for calculations\n",
    "# (adapted from https://numpy.org/doc/stable/reference/generated/numpy.meshgrid.html)\n",
    "X, Y, Z = np.meshgrid(x_values, y_values, z_values) "
   ]
  },
  {
   "cell_type": "code",
   "execution_count": null,
   "metadata": {},
   "outputs": [],
   "source": [
    "# create X Y and Z vector component arrays using arbitrary calculations\n",
    "x_component = np.sin(Y + Z)\n",
    "y_component = np.cos(X + Z)\n",
    "z_component = np.sin(X + Y + Z)"
   ]
  },
  {
   "cell_type": "code",
   "execution_count": null,
   "metadata": {},
   "outputs": [],
   "source": [
    "# Visualize the vector field.\n",
    "from feedWebGL2 import vector_field_3d\n",
    "vector_field_3d.widen_notebook()"
   ]
  },
  {
   "cell_type": "code",
   "execution_count": null,
   "metadata": {},
   "outputs": [],
   "source": [
    "# For generating isosurfaces, subsample the arrays with a stride of 6\n",
    "viewer = vector_field_3d.VectorFieldViewer(x_component, y_component, z_component, subsample=6)"
   ]
  },
  {
   "cell_type": "code",
   "execution_count": null,
   "metadata": {},
   "outputs": [],
   "source": [
    "# generate a widget illustrating the field, using 100 streamlines started at random start points.\n",
    "viewer.displayWidget(100)"
   ]
  },
  {
   "cell_type": "markdown",
   "metadata": {},
   "source": [
    "# Explanation:\n",
    "\n",
    "In the visualization the solid surfaces represent the iso-surfaces of the magnitude of the\n",
    "vector field at each index.\n",
    "\n",
    "The animated streamlines indicate the direction of flow for the vector field.\n",
    "\n",
    "# Specifying start points\n",
    "\n",
    "To specify starting points for the streamlines, provide a list of points in place of the number of points."
   ]
  },
  {
   "cell_type": "code",
   "execution_count": null,
   "metadata": {},
   "outputs": [],
   "source": [
    "starting_points = []\n",
    "for i in range(20):\n",
    "    x = 150\n",
    "    z = 150 * (1 + np.sin(i))\n",
    "    y = 150 * (1 + np.cos(i))\n",
    "    # NOTE (z, y, x) not xyz\n",
    "    point = np.array([z,y,x])\n",
    "    starting_points.append((point))\n",
    "    \n",
    "viewer.displayWidget(zyx_start_points=starting_points, max_number_of_points=150, cycle_duration=0.5)"
   ]
  },
  {
   "cell_type": "code",
   "execution_count": null,
   "metadata": {},
   "outputs": [],
   "source": [
    "starting_points"
   ]
  },
  {
   "cell_type": "code",
   "execution_count": null,
   "metadata": {},
   "outputs": [],
   "source": []
  }
 ],
 "metadata": {
  "kernelspec": {
   "display_name": "Python 3",
   "language": "python",
   "name": "python3"
  },
  "language_info": {
   "codemirror_mode": {
    "name": "ipython",
    "version": 3
   },
   "file_extension": ".py",
   "mimetype": "text/x-python",
   "name": "python",
   "nbconvert_exporter": "python",
   "pygments_lexer": "ipython3",
   "version": "3.6.8"
  }
 },
 "nbformat": 4,
 "nbformat_minor": 4
}
