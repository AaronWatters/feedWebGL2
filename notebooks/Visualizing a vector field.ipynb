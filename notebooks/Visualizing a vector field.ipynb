{
 "cells": [
  {
   "cell_type": "markdown",
   "metadata": {},
   "source": [
    "# How to visualize a vector field\n",
    "\n",
    "This notebook demonstrates some features of `feedWebGL2` for visualizing vector fields.\n",
    "\n",
    "A vector field is characterized by 3 dense arrays of floating point values representing\n",
    "the (x, y, z) components of direction vectors at each (i, j, k) index of the arrays.\n",
    "In real applications these arrays would be derived from remote sensing of some sort of\n",
    "scientific simulation.\n",
    "\n",
    "In this demonstration, for simplicity, we invent some arrays with no motivation physical intuition\n",
    "behind them"
   ]
  },
  {
   "cell_type": "code",
   "execution_count": 1,
   "metadata": {},
   "outputs": [],
   "source": [
    "import numpy as np"
   ]
  },
  {
   "cell_type": "code",
   "execution_count": 2,
   "metadata": {},
   "outputs": [],
   "source": [
    "array_size = 300\n",
    "x_values = np.linspace(0, 2.0, array_size)\n",
    "y_values = np.linspace(0, 2.0, array_size)\n",
    "z_values = np.linspace(0, 2.0, array_size)"
   ]
  },
  {
   "cell_type": "code",
   "execution_count": 3,
   "metadata": {},
   "outputs": [],
   "source": [
    "# make X Y and Z matrices for calculations\n",
    "# (adapted from https://numpy.org/doc/stable/reference/generated/numpy.meshgrid.html)\n",
    "X, Y, Z = np.meshgrid(x_values, y_values, z_values) "
   ]
  },
  {
   "cell_type": "code",
   "execution_count": 4,
   "metadata": {},
   "outputs": [],
   "source": [
    "# create X Y and Z vector component arrays using arbitrary calculations\n",
    "x_component = np.sin(Y + Z)\n",
    "y_component = np.cos(X + Z)\n",
    "z_component = np.sin(X + Y + Z)"
   ]
  },
  {
   "cell_type": "code",
   "execution_count": 5,
   "metadata": {},
   "outputs": [
    {
     "data": {
      "text/html": [
       "<style>.container { width:100% !important; }</style>"
      ],
      "text/plain": [
       "<IPython.core.display.HTML object>"
      ]
     },
     "metadata": {},
     "output_type": "display_data"
    }
   ],
   "source": [
    "# Visualize the vector field.\n",
    "from feedWebGL2 import vector_field_3d\n",
    "vector_field_3d.widen_notebook()"
   ]
  },
  {
   "cell_type": "code",
   "execution_count": 6,
   "metadata": {},
   "outputs": [],
   "source": [
    "# For generating isosurfaces, subsample the arrays with a stride of 6\n",
    "viewer = vector_field_3d.VectorFieldViewer(x_component, y_component, z_component, subsample=6)"
   ]
  },
  {
   "cell_type": "code",
   "execution_count": 7,
   "metadata": {},
   "outputs": [
    {
     "data": {
      "application/vnd.jupyter.widget-view+json": {
       "model_id": "8bc57c92619f47499ce6e4b41781cc4b",
       "version_major": 2,
       "version_minor": 0
      },
      "text/plain": [
       "VBox(children=(Volume32(status='deferring flush until render'), Text(value='deferring flush until render', des…"
      ]
     },
     "metadata": {},
     "output_type": "display_data"
    }
   ],
   "source": [
    "# generate a widget illustrating the field, using 100 streamlines started at random start points.\n",
    "viewer.displayWidget(100)"
   ]
  },
  {
   "cell_type": "markdown",
   "metadata": {},
   "source": [
    "# Explanation:\n",
    "\n",
    "In the visualization the solid surfaces represent the iso-surfaces of the magnitude of the\n",
    "vector field at each index.\n",
    "\n",
    "The animated streamlines indicate the direction of flow for the vector field.\n",
    "\n",
    "# Specifying start points\n",
    "\n",
    "To specify starting points for the streamlines, provide a list of points in place of the number of points."
   ]
  },
  {
   "cell_type": "code",
   "execution_count": 12,
   "metadata": {},
   "outputs": [
    {
     "data": {
      "application/vnd.jupyter.widget-view+json": {
       "model_id": "ddab844267994e8d881a24122645b3a8",
       "version_major": 2,
       "version_minor": 0
      },
      "text/plain": [
       "VBox(children=(Volume32(status='deferring flush until render'), Text(value='deferring flush until render', des…"
      ]
     },
     "metadata": {},
     "output_type": "display_data"
    }
   ],
   "source": [
    "starting_points = []\n",
    "for i in range(100):\n",
    "    x = 150\n",
    "    z = 150 * (1 + np.sin(i))\n",
    "    y = 150 * (1 + np.cos(i))\n",
    "    # NOTE (z, y, x) not xyz\n",
    "    point = np.array([z,y,x])\n",
    "    starting_points.append((point))\n",
    "    \n",
    "viewer.displayWidget(zyx_start_points=starting_points, max_number_of_points=150)"
   ]
  },
  {
   "cell_type": "code",
   "execution_count": 9,
   "metadata": {},
   "outputs": [
    {
     "data": {
      "text/plain": [
       "[array([150., 152., 150.]),\n",
       " array([150.        , 151.54030231, 276.22064772]),\n",
       " array([150.        , 150.58385316, 286.39461402]),\n",
       " array([150.        , 150.0100075 , 171.16800121]),\n",
       " array([150.        , 150.34635638,  36.4796257 ]),\n",
       " array([150.        , 151.28366219,   6.1613588 ]),\n",
       " array([150.        , 151.96017029, 108.08767527]),\n",
       " array([150.        , 151.75390225, 248.54798981]),\n",
       " array([150.        , 150.85449997, 298.40373699]),\n",
       " array([150.        , 150.08886974, 211.81777279]),\n",
       " array([150.        , 150.16092847,  68.39683337]),\n",
       " array([1.50000000e+02, 1.51004426e+02, 1.46901739e-03]),\n",
       " array([150.        , 151.84385396,  69.5140623 ]),\n",
       " array([150.        , 151.90744678, 213.02505552]),\n",
       " array([150.        , 151.13673722, 298.59110335]),\n",
       " array([150.        , 150.24031209, 247.54317602]),\n",
       " array([150.        , 150.04234052, 106.8145025 ]),\n",
       " array([150.        , 150.72483666,   5.79037622]),\n",
       " array([150.        , 151.66031671,  37.35191298]),\n",
       " array([150.        , 151.98870462, 172.48158145]),\n",
       " array([150.        , 151.40808206, 286.94178761]),\n",
       " array([150.        , 150.45227074, 275.49834578]),\n",
       " array([150.        , 150.00003917, 148.67230361]),\n",
       " array([150.        , 150.46716698,  23.06693937]),\n",
       " array([150.        , 151.42417901,  14.1632457 ]),\n",
       " array([150.        , 151.99120281, 130.14723749]),\n",
       " array([150.        , 151.64691932, 264.38376757]),\n",
       " array([150.        , 150.70786119, 293.45638926]),\n",
       " array([150.        , 150.03739413, 190.63586825]),\n",
       " array([150.        , 150.25194247,  50.45491737]),\n",
       " array([150.        , 151.15425145,   1.79525639]),\n",
       " array([150.        , 151.91474236,  89.3943532 ]),\n",
       " array([150.        , 151.83422336, 232.71400219]),\n",
       " array([150.        , 150.98672325, 299.98677902]),\n",
       " array([150.        , 150.15142973, 229.36240292]),\n",
       " array([150.        , 150.09630779,  85.77259958]),\n",
       " array([150.        , 150.87203631,   1.23317198]),\n",
       " array([150.        , 151.76541405,  53.46928   ]),\n",
       " array([150.        , 151.95507364, 194.45528681]),\n",
       " array([150.        , 151.26664293, 294.56930794]),\n",
       " array([150.        , 150.33306194, 261.76697407]),\n",
       " array([150.        , 150.01266072, 126.20659968]),\n",
       " array([150.        , 150.60001469,  12.52176781]),\n",
       " array([150.        , 151.5551133 ,  25.23378861]),\n",
       " array([150.        , 151.99984331, 152.65528877]),\n",
       " array([150.        , 151.52532199, 277.63552868]),\n",
       " array([150.        , 150.56782206, 285.26825215]),\n",
       " array([150.        , 150.00766453, 168.53596841]),\n",
       " array([150.        , 150.35985566,  34.7618008 ]),\n",
       " array([150.        , 151.30059254,   6.93710209]),\n",
       " array([150.        , 151.96496603, 110.64377194]),\n",
       " array([150.        , 151.7421542 , 250.53437638]),\n",
       " array([150.        , 150.83700922, 297.99413881]),\n",
       " array([150.        , 150.08171721, 209.38877253]),\n",
       " array([150.        , 150.17069017,  66.18164267]),\n",
       " array([1.50000000e+02, 1.51022127e+02, 3.67239962e-02]),\n",
       " array([150.        , 151.85322011,  71.76734969]),\n",
       " array([150.        , 151.89986683, 215.42471329]),\n",
       " array([150.        , 151.11918014, 298.93089721]),\n",
       " array([150.        , 150.22891978, 245.51070107]),\n",
       " array([150.        , 150.04758702, 104.27840683]),\n",
       " array([150.        , 150.74189836,   5.0823345 ]),\n",
       " array([150.        , 151.67350716,  39.1228955 ]),\n",
       " array([150.        , 151.98589658, 175.10335505]),\n",
       " array([150.        , 151.39185723, 288.00390573]),\n",
       " array([150.        , 150.43754615, 274.02430192]),\n",
       " array([150.        , 150.00035254, 146.0173269 ]),\n",
       " array([150.        , 150.4822302 ,  21.67200315]),\n",
       " array([150.        , 151.44014302,  15.3108479 ]),\n",
       " array([150.        , 151.99339038, 132.78227793]),\n",
       " array([150.        , 151.6333192 , 266.08360223]),\n",
       " array([150.        , 150.69097727, 292.65819799]),\n",
       " array([150.        , 150.03274941, 188.07350441]),\n",
       " array([150.        , 150.26380728,  48.48420647]),\n",
       " array([150.        , 151.17171734,   2.22806093]),\n",
       " array([150.        , 151.92175127,  91.83275469]),\n",
       " array([150.        , 151.82433133, 234.91614553]),\n",
       " array([150.        , 150.96902497, 299.92802379]),\n",
       " array([150.        , 150.14219691, 227.0967684 ]),\n",
       " array([150.        , 150.10402905,  83.38309969]),\n",
       " array([150.        , 150.88961276,   0.91670191]),\n",
       " array([150.        , 151.77668598,  55.51680086]),\n",
       " array([150.        , 151.9496777 , 196.98431736]),\n",
       " array([150.        , 151.24954012, 295.25466917]),\n",
       " array([150.        , 150.3199765 , 259.97854801]),\n",
       " array([150.        , 150.01562336, 123.58865701]),\n",
       " array([150.        , 150.61630156,  11.48123295]),\n",
       " array([150.        , 151.56975033,  26.72732451]),\n",
       " array([150.        , 151.99937328, 155.30974541]),\n",
       " array([150.        , 151.51017704, 279.01041087]),\n",
       " array([150.        , 150.55192638, 284.09949954]),\n",
       " array([150.        , 150.00563254, 165.89812676]),\n",
       " array([150.        , 150.37355555,  33.08008956]),\n",
       " array([150.        , 151.3174287 ,   7.75767881]),\n",
       " array([150.        , 151.96945937, 113.21220218]),\n",
       " array([150.        , 151.73017356, 252.48925721]),\n",
       " array([150.        , 150.81956955, 297.53816182]),\n",
       " array([150.        , 150.07485246, 206.94116085]),\n",
       " array([150.        , 150.18071175,  63.9927192 ]),\n",
       " array([1.50000000e+02, 1.51039821e+02, 1.18974872e-01])]"
      ]
     },
     "execution_count": 9,
     "metadata": {},
     "output_type": "execute_result"
    }
   ],
   "source": [
    "starting_points"
   ]
  },
  {
   "cell_type": "code",
   "execution_count": null,
   "metadata": {},
   "outputs": [],
   "source": []
  }
 ],
 "metadata": {
  "kernelspec": {
   "display_name": "Python 3",
   "language": "python",
   "name": "python3"
  },
  "language_info": {
   "codemirror_mode": {
    "name": "ipython",
    "version": 3
   },
   "file_extension": ".py",
   "mimetype": "text/x-python",
   "name": "python",
   "nbconvert_exporter": "python",
   "pygments_lexer": "ipython3",
   "version": "3.6.8"
  }
 },
 "nbformat": 4,
 "nbformat_minor": 4
}
